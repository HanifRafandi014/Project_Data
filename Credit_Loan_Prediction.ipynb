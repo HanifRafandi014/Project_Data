{
  "nbformat": 4,
  "nbformat_minor": 0,
  "metadata": {
    "colab": {
      "provenance": [],
      "gpuType": "T4",
      "include_colab_link": true
    },
    "kernelspec": {
      "name": "python3",
      "display_name": "Python 3"
    },
    "language_info": {
      "name": "python"
    },
    "accelerator": "GPU"
  },
  "cells": [
    {
      "cell_type": "markdown",
      "metadata": {
        "id": "view-in-github",
        "colab_type": "text"
      },
      "source": [
        "<a href=\"https://colab.research.google.com/github/HanifRafandi014/Project_Data/blob/main/Credit_Loan_Prediction.ipynb\" target=\"_parent\"><img src=\"https://colab.research.google.com/assets/colab-badge.svg\" alt=\"Open In Colab\"/></a>"
      ]
    },
    {
      "cell_type": "markdown",
      "source": [
        "# Import Library"
      ],
      "metadata": {
        "id": "eNWxIZh2OSzu"
      }
    },
    {
      "cell_type": "code",
      "execution_count": null,
      "metadata": {
        "id": "87CQvSMnVU1j"
      },
      "outputs": [],
      "source": [
        "import numpy as np\n",
        "import matplotlib.pyplot as plt\n",
        "import pandas as pd\n",
        "import seaborn as sns"
      ]
    },
    {
      "cell_type": "code",
      "source": [
        "from google.colab import drive\n",
        "drive.mount('/content/drive')"
      ],
      "metadata": {
        "colab": {
          "base_uri": "https://localhost:8080/"
        },
        "id": "vAJdZjEFEvuK",
        "outputId": "3db11d65-ef48-4e83-8be9-fb972cfedaa5"
      },
      "execution_count": null,
      "outputs": [
        {
          "output_type": "stream",
          "name": "stdout",
          "text": [
            "Drive already mounted at /content/drive; to attempt to forcibly remount, call drive.mount(\"/content/drive\", force_remount=True).\n"
          ]
        }
      ]
    },
    {
      "cell_type": "markdown",
      "source": [
        "# Import Data"
      ],
      "metadata": {
        "id": "wO79u-3wOWQG"
      }
    },
    {
      "cell_type": "code",
      "source": [
        "raw_data = pd.read_csv('/content/drive/MyDrive/Colab Notebooks/loan_data_2007_2014.csv')\n",
        "raw_data.head()"
      ],
      "metadata": {
        "colab": {
          "base_uri": "https://localhost:8080/",
          "height": 375
        },
        "id": "5by9mPGhFfMN",
        "outputId": "f07d423e-1fd0-4345-abb4-47c32e3a9c03"
      },
      "execution_count": null,
      "outputs": [
        {
          "output_type": "stream",
          "name": "stderr",
          "text": [
            "<ipython-input-18-475b6702435f>:1: DtypeWarning: Columns (20) have mixed types. Specify dtype option on import or set low_memory=False.\n",
            "  raw_data = pd.read_csv('/content/drive/MyDrive/Colab Notebooks/loan_data_2007_2014.csv')\n"
          ]
        },
        {
          "output_type": "execute_result",
          "data": {
            "text/plain": [
              "   Unnamed: 0       id  member_id  loan_amnt  funded_amnt  funded_amnt_inv  \\\n",
              "0           0  1077501    1296599       5000         5000           4975.0   \n",
              "1           1  1077430    1314167       2500         2500           2500.0   \n",
              "2           2  1077175    1313524       2400         2400           2400.0   \n",
              "3           3  1076863    1277178      10000        10000          10000.0   \n",
              "4           4  1075358    1311748       3000         3000           3000.0   \n",
              "\n",
              "         term  int_rate  installment grade  ... total_bal_il il_util  \\\n",
              "0   36 months     10.65       162.87     B  ...          NaN     NaN   \n",
              "1   60 months     15.27        59.83     C  ...          NaN     NaN   \n",
              "2   36 months     15.96        84.33     C  ...          NaN     NaN   \n",
              "3   36 months     13.49       339.31     C  ...          NaN     NaN   \n",
              "4   60 months     12.69        67.79     B  ...          NaN     NaN   \n",
              "\n",
              "  open_rv_12m open_rv_24m  max_bal_bc all_util total_rev_hi_lim inq_fi  \\\n",
              "0         NaN         NaN         NaN      NaN              NaN    NaN   \n",
              "1         NaN         NaN         NaN      NaN              NaN    NaN   \n",
              "2         NaN         NaN         NaN      NaN              NaN    NaN   \n",
              "3         NaN         NaN         NaN      NaN              NaN    NaN   \n",
              "4         NaN         NaN         NaN      NaN              NaN    NaN   \n",
              "\n",
              "  total_cu_tl inq_last_12m  \n",
              "0         NaN          NaN  \n",
              "1         NaN          NaN  \n",
              "2         NaN          NaN  \n",
              "3         NaN          NaN  \n",
              "4         NaN          NaN  \n",
              "\n",
              "[5 rows x 75 columns]"
            ],
            "text/html": [
              "\n",
              "  <div id=\"df-004fa304-0d36-49a8-a1c8-823ec2ddd6d5\" class=\"colab-df-container\">\n",
              "    <div>\n",
              "<style scoped>\n",
              "    .dataframe tbody tr th:only-of-type {\n",
              "        vertical-align: middle;\n",
              "    }\n",
              "\n",
              "    .dataframe tbody tr th {\n",
              "        vertical-align: top;\n",
              "    }\n",
              "\n",
              "    .dataframe thead th {\n",
              "        text-align: right;\n",
              "    }\n",
              "</style>\n",
              "<table border=\"1\" class=\"dataframe\">\n",
              "  <thead>\n",
              "    <tr style=\"text-align: right;\">\n",
              "      <th></th>\n",
              "      <th>Unnamed: 0</th>\n",
              "      <th>id</th>\n",
              "      <th>member_id</th>\n",
              "      <th>loan_amnt</th>\n",
              "      <th>funded_amnt</th>\n",
              "      <th>funded_amnt_inv</th>\n",
              "      <th>term</th>\n",
              "      <th>int_rate</th>\n",
              "      <th>installment</th>\n",
              "      <th>grade</th>\n",
              "      <th>...</th>\n",
              "      <th>total_bal_il</th>\n",
              "      <th>il_util</th>\n",
              "      <th>open_rv_12m</th>\n",
              "      <th>open_rv_24m</th>\n",
              "      <th>max_bal_bc</th>\n",
              "      <th>all_util</th>\n",
              "      <th>total_rev_hi_lim</th>\n",
              "      <th>inq_fi</th>\n",
              "      <th>total_cu_tl</th>\n",
              "      <th>inq_last_12m</th>\n",
              "    </tr>\n",
              "  </thead>\n",
              "  <tbody>\n",
              "    <tr>\n",
              "      <th>0</th>\n",
              "      <td>0</td>\n",
              "      <td>1077501</td>\n",
              "      <td>1296599</td>\n",
              "      <td>5000</td>\n",
              "      <td>5000</td>\n",
              "      <td>4975.0</td>\n",
              "      <td>36 months</td>\n",
              "      <td>10.65</td>\n",
              "      <td>162.87</td>\n",
              "      <td>B</td>\n",
              "      <td>...</td>\n",
              "      <td>NaN</td>\n",
              "      <td>NaN</td>\n",
              "      <td>NaN</td>\n",
              "      <td>NaN</td>\n",
              "      <td>NaN</td>\n",
              "      <td>NaN</td>\n",
              "      <td>NaN</td>\n",
              "      <td>NaN</td>\n",
              "      <td>NaN</td>\n",
              "      <td>NaN</td>\n",
              "    </tr>\n",
              "    <tr>\n",
              "      <th>1</th>\n",
              "      <td>1</td>\n",
              "      <td>1077430</td>\n",
              "      <td>1314167</td>\n",
              "      <td>2500</td>\n",
              "      <td>2500</td>\n",
              "      <td>2500.0</td>\n",
              "      <td>60 months</td>\n",
              "      <td>15.27</td>\n",
              "      <td>59.83</td>\n",
              "      <td>C</td>\n",
              "      <td>...</td>\n",
              "      <td>NaN</td>\n",
              "      <td>NaN</td>\n",
              "      <td>NaN</td>\n",
              "      <td>NaN</td>\n",
              "      <td>NaN</td>\n",
              "      <td>NaN</td>\n",
              "      <td>NaN</td>\n",
              "      <td>NaN</td>\n",
              "      <td>NaN</td>\n",
              "      <td>NaN</td>\n",
              "    </tr>\n",
              "    <tr>\n",
              "      <th>2</th>\n",
              "      <td>2</td>\n",
              "      <td>1077175</td>\n",
              "      <td>1313524</td>\n",
              "      <td>2400</td>\n",
              "      <td>2400</td>\n",
              "      <td>2400.0</td>\n",
              "      <td>36 months</td>\n",
              "      <td>15.96</td>\n",
              "      <td>84.33</td>\n",
              "      <td>C</td>\n",
              "      <td>...</td>\n",
              "      <td>NaN</td>\n",
              "      <td>NaN</td>\n",
              "      <td>NaN</td>\n",
              "      <td>NaN</td>\n",
              "      <td>NaN</td>\n",
              "      <td>NaN</td>\n",
              "      <td>NaN</td>\n",
              "      <td>NaN</td>\n",
              "      <td>NaN</td>\n",
              "      <td>NaN</td>\n",
              "    </tr>\n",
              "    <tr>\n",
              "      <th>3</th>\n",
              "      <td>3</td>\n",
              "      <td>1076863</td>\n",
              "      <td>1277178</td>\n",
              "      <td>10000</td>\n",
              "      <td>10000</td>\n",
              "      <td>10000.0</td>\n",
              "      <td>36 months</td>\n",
              "      <td>13.49</td>\n",
              "      <td>339.31</td>\n",
              "      <td>C</td>\n",
              "      <td>...</td>\n",
              "      <td>NaN</td>\n",
              "      <td>NaN</td>\n",
              "      <td>NaN</td>\n",
              "      <td>NaN</td>\n",
              "      <td>NaN</td>\n",
              "      <td>NaN</td>\n",
              "      <td>NaN</td>\n",
              "      <td>NaN</td>\n",
              "      <td>NaN</td>\n",
              "      <td>NaN</td>\n",
              "    </tr>\n",
              "    <tr>\n",
              "      <th>4</th>\n",
              "      <td>4</td>\n",
              "      <td>1075358</td>\n",
              "      <td>1311748</td>\n",
              "      <td>3000</td>\n",
              "      <td>3000</td>\n",
              "      <td>3000.0</td>\n",
              "      <td>60 months</td>\n",
              "      <td>12.69</td>\n",
              "      <td>67.79</td>\n",
              "      <td>B</td>\n",
              "      <td>...</td>\n",
              "      <td>NaN</td>\n",
              "      <td>NaN</td>\n",
              "      <td>NaN</td>\n",
              "      <td>NaN</td>\n",
              "      <td>NaN</td>\n",
              "      <td>NaN</td>\n",
              "      <td>NaN</td>\n",
              "      <td>NaN</td>\n",
              "      <td>NaN</td>\n",
              "      <td>NaN</td>\n",
              "    </tr>\n",
              "  </tbody>\n",
              "</table>\n",
              "<p>5 rows × 75 columns</p>\n",
              "</div>\n",
              "    <div class=\"colab-df-buttons\">\n",
              "\n",
              "  <div class=\"colab-df-container\">\n",
              "    <button class=\"colab-df-convert\" onclick=\"convertToInteractive('df-004fa304-0d36-49a8-a1c8-823ec2ddd6d5')\"\n",
              "            title=\"Convert this dataframe to an interactive table.\"\n",
              "            style=\"display:none;\">\n",
              "\n",
              "  <svg xmlns=\"http://www.w3.org/2000/svg\" height=\"24px\" viewBox=\"0 -960 960 960\">\n",
              "    <path d=\"M120-120v-720h720v720H120Zm60-500h600v-160H180v160Zm220 220h160v-160H400v160Zm0 220h160v-160H400v160ZM180-400h160v-160H180v160Zm440 0h160v-160H620v160ZM180-180h160v-160H180v160Zm440 0h160v-160H620v160Z\"/>\n",
              "  </svg>\n",
              "    </button>\n",
              "\n",
              "  <style>\n",
              "    .colab-df-container {\n",
              "      display:flex;\n",
              "      gap: 12px;\n",
              "    }\n",
              "\n",
              "    .colab-df-convert {\n",
              "      background-color: #E8F0FE;\n",
              "      border: none;\n",
              "      border-radius: 50%;\n",
              "      cursor: pointer;\n",
              "      display: none;\n",
              "      fill: #1967D2;\n",
              "      height: 32px;\n",
              "      padding: 0 0 0 0;\n",
              "      width: 32px;\n",
              "    }\n",
              "\n",
              "    .colab-df-convert:hover {\n",
              "      background-color: #E2EBFA;\n",
              "      box-shadow: 0px 1px 2px rgba(60, 64, 67, 0.3), 0px 1px 3px 1px rgba(60, 64, 67, 0.15);\n",
              "      fill: #174EA6;\n",
              "    }\n",
              "\n",
              "    .colab-df-buttons div {\n",
              "      margin-bottom: 4px;\n",
              "    }\n",
              "\n",
              "    [theme=dark] .colab-df-convert {\n",
              "      background-color: #3B4455;\n",
              "      fill: #D2E3FC;\n",
              "    }\n",
              "\n",
              "    [theme=dark] .colab-df-convert:hover {\n",
              "      background-color: #434B5C;\n",
              "      box-shadow: 0px 1px 3px 1px rgba(0, 0, 0, 0.15);\n",
              "      filter: drop-shadow(0px 1px 2px rgba(0, 0, 0, 0.3));\n",
              "      fill: #FFFFFF;\n",
              "    }\n",
              "  </style>\n",
              "\n",
              "    <script>\n",
              "      const buttonEl =\n",
              "        document.querySelector('#df-004fa304-0d36-49a8-a1c8-823ec2ddd6d5 button.colab-df-convert');\n",
              "      buttonEl.style.display =\n",
              "        google.colab.kernel.accessAllowed ? 'block' : 'none';\n",
              "\n",
              "      async function convertToInteractive(key) {\n",
              "        const element = document.querySelector('#df-004fa304-0d36-49a8-a1c8-823ec2ddd6d5');\n",
              "        const dataTable =\n",
              "          await google.colab.kernel.invokeFunction('convertToInteractive',\n",
              "                                                    [key], {});\n",
              "        if (!dataTable) return;\n",
              "\n",
              "        const docLinkHtml = 'Like what you see? Visit the ' +\n",
              "          '<a target=\"_blank\" href=https://colab.research.google.com/notebooks/data_table.ipynb>data table notebook</a>'\n",
              "          + ' to learn more about interactive tables.';\n",
              "        element.innerHTML = '';\n",
              "        dataTable['output_type'] = 'display_data';\n",
              "        await google.colab.output.renderOutput(dataTable, element);\n",
              "        const docLink = document.createElement('div');\n",
              "        docLink.innerHTML = docLinkHtml;\n",
              "        element.appendChild(docLink);\n",
              "      }\n",
              "    </script>\n",
              "  </div>\n",
              "\n",
              "\n",
              "<div id=\"df-03b0f887-31c6-4969-995f-48795f293c47\">\n",
              "  <button class=\"colab-df-quickchart\" onclick=\"quickchart('df-03b0f887-31c6-4969-995f-48795f293c47')\"\n",
              "            title=\"Suggest charts\"\n",
              "            style=\"display:none;\">\n",
              "\n",
              "<svg xmlns=\"http://www.w3.org/2000/svg\" height=\"24px\"viewBox=\"0 0 24 24\"\n",
              "     width=\"24px\">\n",
              "    <g>\n",
              "        <path d=\"M19 3H5c-1.1 0-2 .9-2 2v14c0 1.1.9 2 2 2h14c1.1 0 2-.9 2-2V5c0-1.1-.9-2-2-2zM9 17H7v-7h2v7zm4 0h-2V7h2v10zm4 0h-2v-4h2v4z\"/>\n",
              "    </g>\n",
              "</svg>\n",
              "  </button>\n",
              "\n",
              "<style>\n",
              "  .colab-df-quickchart {\n",
              "      --bg-color: #E8F0FE;\n",
              "      --fill-color: #1967D2;\n",
              "      --hover-bg-color: #E2EBFA;\n",
              "      --hover-fill-color: #174EA6;\n",
              "      --disabled-fill-color: #AAA;\n",
              "      --disabled-bg-color: #DDD;\n",
              "  }\n",
              "\n",
              "  [theme=dark] .colab-df-quickchart {\n",
              "      --bg-color: #3B4455;\n",
              "      --fill-color: #D2E3FC;\n",
              "      --hover-bg-color: #434B5C;\n",
              "      --hover-fill-color: #FFFFFF;\n",
              "      --disabled-bg-color: #3B4455;\n",
              "      --disabled-fill-color: #666;\n",
              "  }\n",
              "\n",
              "  .colab-df-quickchart {\n",
              "    background-color: var(--bg-color);\n",
              "    border: none;\n",
              "    border-radius: 50%;\n",
              "    cursor: pointer;\n",
              "    display: none;\n",
              "    fill: var(--fill-color);\n",
              "    height: 32px;\n",
              "    padding: 0;\n",
              "    width: 32px;\n",
              "  }\n",
              "\n",
              "  .colab-df-quickchart:hover {\n",
              "    background-color: var(--hover-bg-color);\n",
              "    box-shadow: 0 1px 2px rgba(60, 64, 67, 0.3), 0 1px 3px 1px rgba(60, 64, 67, 0.15);\n",
              "    fill: var(--button-hover-fill-color);\n",
              "  }\n",
              "\n",
              "  .colab-df-quickchart-complete:disabled,\n",
              "  .colab-df-quickchart-complete:disabled:hover {\n",
              "    background-color: var(--disabled-bg-color);\n",
              "    fill: var(--disabled-fill-color);\n",
              "    box-shadow: none;\n",
              "  }\n",
              "\n",
              "  .colab-df-spinner {\n",
              "    border: 2px solid var(--fill-color);\n",
              "    border-color: transparent;\n",
              "    border-bottom-color: var(--fill-color);\n",
              "    animation:\n",
              "      spin 1s steps(1) infinite;\n",
              "  }\n",
              "\n",
              "  @keyframes spin {\n",
              "    0% {\n",
              "      border-color: transparent;\n",
              "      border-bottom-color: var(--fill-color);\n",
              "      border-left-color: var(--fill-color);\n",
              "    }\n",
              "    20% {\n",
              "      border-color: transparent;\n",
              "      border-left-color: var(--fill-color);\n",
              "      border-top-color: var(--fill-color);\n",
              "    }\n",
              "    30% {\n",
              "      border-color: transparent;\n",
              "      border-left-color: var(--fill-color);\n",
              "      border-top-color: var(--fill-color);\n",
              "      border-right-color: var(--fill-color);\n",
              "    }\n",
              "    40% {\n",
              "      border-color: transparent;\n",
              "      border-right-color: var(--fill-color);\n",
              "      border-top-color: var(--fill-color);\n",
              "    }\n",
              "    60% {\n",
              "      border-color: transparent;\n",
              "      border-right-color: var(--fill-color);\n",
              "    }\n",
              "    80% {\n",
              "      border-color: transparent;\n",
              "      border-right-color: var(--fill-color);\n",
              "      border-bottom-color: var(--fill-color);\n",
              "    }\n",
              "    90% {\n",
              "      border-color: transparent;\n",
              "      border-bottom-color: var(--fill-color);\n",
              "    }\n",
              "  }\n",
              "</style>\n",
              "\n",
              "  <script>\n",
              "    async function quickchart(key) {\n",
              "      const quickchartButtonEl =\n",
              "        document.querySelector('#' + key + ' button');\n",
              "      quickchartButtonEl.disabled = true;  // To prevent multiple clicks.\n",
              "      quickchartButtonEl.classList.add('colab-df-spinner');\n",
              "      try {\n",
              "        const charts = await google.colab.kernel.invokeFunction(\n",
              "            'suggestCharts', [key], {});\n",
              "      } catch (error) {\n",
              "        console.error('Error during call to suggestCharts:', error);\n",
              "      }\n",
              "      quickchartButtonEl.classList.remove('colab-df-spinner');\n",
              "      quickchartButtonEl.classList.add('colab-df-quickchart-complete');\n",
              "    }\n",
              "    (() => {\n",
              "      let quickchartButtonEl =\n",
              "        document.querySelector('#df-03b0f887-31c6-4969-995f-48795f293c47 button');\n",
              "      quickchartButtonEl.style.display =\n",
              "        google.colab.kernel.accessAllowed ? 'block' : 'none';\n",
              "    })();\n",
              "  </script>\n",
              "</div>\n",
              "    </div>\n",
              "  </div>\n"
            ]
          },
          "metadata": {},
          "execution_count": 18
        }
      ]
    },
    {
      "cell_type": "markdown",
      "source": [
        "# Data Understanding"
      ],
      "metadata": {
        "id": "7jrpWP14OZJW"
      }
    },
    {
      "cell_type": "code",
      "source": [
        "raw_data.shape"
      ],
      "metadata": {
        "colab": {
          "base_uri": "https://localhost:8080/"
        },
        "id": "NSxw6cYKGexs",
        "outputId": "cbbf6bbb-41ab-4d31-f3f9-93178506cab3"
      },
      "execution_count": null,
      "outputs": [
        {
          "output_type": "execute_result",
          "data": {
            "text/plain": [
              "(466285, 75)"
            ]
          },
          "metadata": {},
          "execution_count": 19
        }
      ]
    },
    {
      "cell_type": "code",
      "source": [
        "raw_data.info()"
      ],
      "metadata": {
        "colab": {
          "base_uri": "https://localhost:8080/"
        },
        "id": "mG_fSFV6Mj2m",
        "outputId": "c17bf7f9-ede9-43a5-969c-12717e6e5802"
      },
      "execution_count": null,
      "outputs": [
        {
          "output_type": "stream",
          "name": "stdout",
          "text": [
            "<class 'pandas.core.frame.DataFrame'>\n",
            "RangeIndex: 466285 entries, 0 to 466284\n",
            "Data columns (total 75 columns):\n",
            " #   Column                       Non-Null Count   Dtype  \n",
            "---  ------                       --------------   -----  \n",
            " 0   Unnamed: 0                   466285 non-null  int64  \n",
            " 1   id                           466285 non-null  int64  \n",
            " 2   member_id                    466285 non-null  int64  \n",
            " 3   loan_amnt                    466285 non-null  int64  \n",
            " 4   funded_amnt                  466285 non-null  int64  \n",
            " 5   funded_amnt_inv              466285 non-null  float64\n",
            " 6   term                         466285 non-null  object \n",
            " 7   int_rate                     466285 non-null  float64\n",
            " 8   installment                  466285 non-null  float64\n",
            " 9   grade                        466285 non-null  object \n",
            " 10  sub_grade                    466285 non-null  object \n",
            " 11  emp_title                    438697 non-null  object \n",
            " 12  emp_length                   445277 non-null  object \n",
            " 13  home_ownership               466285 non-null  object \n",
            " 14  annual_inc                   466281 non-null  float64\n",
            " 15  verification_status          466285 non-null  object \n",
            " 16  issue_d                      466285 non-null  object \n",
            " 17  loan_status                  466285 non-null  object \n",
            " 18  pymnt_plan                   466285 non-null  object \n",
            " 19  url                          466285 non-null  object \n",
            " 20  desc                         125983 non-null  object \n",
            " 21  purpose                      466285 non-null  object \n",
            " 22  title                        466265 non-null  object \n",
            " 23  zip_code                     466285 non-null  object \n",
            " 24  addr_state                   466285 non-null  object \n",
            " 25  dti                          466285 non-null  float64\n",
            " 26  delinq_2yrs                  466256 non-null  float64\n",
            " 27  earliest_cr_line             466256 non-null  object \n",
            " 28  inq_last_6mths               466256 non-null  float64\n",
            " 29  mths_since_last_delinq       215934 non-null  float64\n",
            " 30  mths_since_last_record       62638 non-null   float64\n",
            " 31  open_acc                     466256 non-null  float64\n",
            " 32  pub_rec                      466256 non-null  float64\n",
            " 33  revol_bal                    466285 non-null  int64  \n",
            " 34  revol_util                   465945 non-null  float64\n",
            " 35  total_acc                    466256 non-null  float64\n",
            " 36  initial_list_status          466285 non-null  object \n",
            " 37  out_prncp                    466285 non-null  float64\n",
            " 38  out_prncp_inv                466285 non-null  float64\n",
            " 39  total_pymnt                  466285 non-null  float64\n",
            " 40  total_pymnt_inv              466285 non-null  float64\n",
            " 41  total_rec_prncp              466285 non-null  float64\n",
            " 42  total_rec_int                466285 non-null  float64\n",
            " 43  total_rec_late_fee           466285 non-null  float64\n",
            " 44  recoveries                   466285 non-null  float64\n",
            " 45  collection_recovery_fee      466285 non-null  float64\n",
            " 46  last_pymnt_d                 465909 non-null  object \n",
            " 47  last_pymnt_amnt              466285 non-null  float64\n",
            " 48  next_pymnt_d                 239071 non-null  object \n",
            " 49  last_credit_pull_d           466243 non-null  object \n",
            " 50  collections_12_mths_ex_med   466140 non-null  float64\n",
            " 51  mths_since_last_major_derog  98974 non-null   float64\n",
            " 52  policy_code                  466285 non-null  int64  \n",
            " 53  application_type             466285 non-null  object \n",
            " 54  annual_inc_joint             0 non-null       float64\n",
            " 55  dti_joint                    0 non-null       float64\n",
            " 56  verification_status_joint    0 non-null       float64\n",
            " 57  acc_now_delinq               466256 non-null  float64\n",
            " 58  tot_coll_amt                 396009 non-null  float64\n",
            " 59  tot_cur_bal                  396009 non-null  float64\n",
            " 60  open_acc_6m                  0 non-null       float64\n",
            " 61  open_il_6m                   0 non-null       float64\n",
            " 62  open_il_12m                  0 non-null       float64\n",
            " 63  open_il_24m                  0 non-null       float64\n",
            " 64  mths_since_rcnt_il           0 non-null       float64\n",
            " 65  total_bal_il                 0 non-null       float64\n",
            " 66  il_util                      0 non-null       float64\n",
            " 67  open_rv_12m                  0 non-null       float64\n",
            " 68  open_rv_24m                  0 non-null       float64\n",
            " 69  max_bal_bc                   0 non-null       float64\n",
            " 70  all_util                     0 non-null       float64\n",
            " 71  total_rev_hi_lim             396009 non-null  float64\n",
            " 72  inq_fi                       0 non-null       float64\n",
            " 73  total_cu_tl                  0 non-null       float64\n",
            " 74  inq_last_12m                 0 non-null       float64\n",
            "dtypes: float64(46), int64(7), object(22)\n",
            "memory usage: 266.8+ MB\n"
          ]
        }
      ]
    },
    {
      "cell_type": "code",
      "source": [
        "raw_data.sample()"
      ],
      "metadata": {
        "colab": {
          "base_uri": "https://localhost:8080/",
          "height": 165
        },
        "id": "d2XDiyhZOPcv",
        "outputId": "6b501eb3-5d8f-4fe8-e352-561f9980de5e"
      },
      "execution_count": null,
      "outputs": [
        {
          "output_type": "execute_result",
          "data": {
            "text/plain": [
              "        Unnamed: 0       id  member_id  loan_amnt  funded_amnt  \\\n",
              "197081      197081  1544109    1809858       9300         9300   \n",
              "\n",
              "        funded_amnt_inv        term  int_rate  installment grade  ...  \\\n",
              "197081           9300.0   36 months     15.31       323.81     C  ...   \n",
              "\n",
              "       total_bal_il il_util open_rv_12m open_rv_24m  max_bal_bc all_util  \\\n",
              "197081          NaN     NaN         NaN         NaN         NaN      NaN   \n",
              "\n",
              "       total_rev_hi_lim inq_fi total_cu_tl inq_last_12m  \n",
              "197081          18900.0    NaN         NaN          NaN  \n",
              "\n",
              "[1 rows x 75 columns]"
            ],
            "text/html": [
              "\n",
              "  <div id=\"df-fe5954bc-7429-4750-9f6b-ee75ca624758\" class=\"colab-df-container\">\n",
              "    <div>\n",
              "<style scoped>\n",
              "    .dataframe tbody tr th:only-of-type {\n",
              "        vertical-align: middle;\n",
              "    }\n",
              "\n",
              "    .dataframe tbody tr th {\n",
              "        vertical-align: top;\n",
              "    }\n",
              "\n",
              "    .dataframe thead th {\n",
              "        text-align: right;\n",
              "    }\n",
              "</style>\n",
              "<table border=\"1\" class=\"dataframe\">\n",
              "  <thead>\n",
              "    <tr style=\"text-align: right;\">\n",
              "      <th></th>\n",
              "      <th>Unnamed: 0</th>\n",
              "      <th>id</th>\n",
              "      <th>member_id</th>\n",
              "      <th>loan_amnt</th>\n",
              "      <th>funded_amnt</th>\n",
              "      <th>funded_amnt_inv</th>\n",
              "      <th>term</th>\n",
              "      <th>int_rate</th>\n",
              "      <th>installment</th>\n",
              "      <th>grade</th>\n",
              "      <th>...</th>\n",
              "      <th>total_bal_il</th>\n",
              "      <th>il_util</th>\n",
              "      <th>open_rv_12m</th>\n",
              "      <th>open_rv_24m</th>\n",
              "      <th>max_bal_bc</th>\n",
              "      <th>all_util</th>\n",
              "      <th>total_rev_hi_lim</th>\n",
              "      <th>inq_fi</th>\n",
              "      <th>total_cu_tl</th>\n",
              "      <th>inq_last_12m</th>\n",
              "    </tr>\n",
              "  </thead>\n",
              "  <tbody>\n",
              "    <tr>\n",
              "      <th>197081</th>\n",
              "      <td>197081</td>\n",
              "      <td>1544109</td>\n",
              "      <td>1809858</td>\n",
              "      <td>9300</td>\n",
              "      <td>9300</td>\n",
              "      <td>9300.0</td>\n",
              "      <td>36 months</td>\n",
              "      <td>15.31</td>\n",
              "      <td>323.81</td>\n",
              "      <td>C</td>\n",
              "      <td>...</td>\n",
              "      <td>NaN</td>\n",
              "      <td>NaN</td>\n",
              "      <td>NaN</td>\n",
              "      <td>NaN</td>\n",
              "      <td>NaN</td>\n",
              "      <td>NaN</td>\n",
              "      <td>18900.0</td>\n",
              "      <td>NaN</td>\n",
              "      <td>NaN</td>\n",
              "      <td>NaN</td>\n",
              "    </tr>\n",
              "  </tbody>\n",
              "</table>\n",
              "<p>1 rows × 75 columns</p>\n",
              "</div>\n",
              "    <div class=\"colab-df-buttons\">\n",
              "\n",
              "  <div class=\"colab-df-container\">\n",
              "    <button class=\"colab-df-convert\" onclick=\"convertToInteractive('df-fe5954bc-7429-4750-9f6b-ee75ca624758')\"\n",
              "            title=\"Convert this dataframe to an interactive table.\"\n",
              "            style=\"display:none;\">\n",
              "\n",
              "  <svg xmlns=\"http://www.w3.org/2000/svg\" height=\"24px\" viewBox=\"0 -960 960 960\">\n",
              "    <path d=\"M120-120v-720h720v720H120Zm60-500h600v-160H180v160Zm220 220h160v-160H400v160Zm0 220h160v-160H400v160ZM180-400h160v-160H180v160Zm440 0h160v-160H620v160ZM180-180h160v-160H180v160Zm440 0h160v-160H620v160Z\"/>\n",
              "  </svg>\n",
              "    </button>\n",
              "\n",
              "  <style>\n",
              "    .colab-df-container {\n",
              "      display:flex;\n",
              "      gap: 12px;\n",
              "    }\n",
              "\n",
              "    .colab-df-convert {\n",
              "      background-color: #E8F0FE;\n",
              "      border: none;\n",
              "      border-radius: 50%;\n",
              "      cursor: pointer;\n",
              "      display: none;\n",
              "      fill: #1967D2;\n",
              "      height: 32px;\n",
              "      padding: 0 0 0 0;\n",
              "      width: 32px;\n",
              "    }\n",
              "\n",
              "    .colab-df-convert:hover {\n",
              "      background-color: #E2EBFA;\n",
              "      box-shadow: 0px 1px 2px rgba(60, 64, 67, 0.3), 0px 1px 3px 1px rgba(60, 64, 67, 0.15);\n",
              "      fill: #174EA6;\n",
              "    }\n",
              "\n",
              "    .colab-df-buttons div {\n",
              "      margin-bottom: 4px;\n",
              "    }\n",
              "\n",
              "    [theme=dark] .colab-df-convert {\n",
              "      background-color: #3B4455;\n",
              "      fill: #D2E3FC;\n",
              "    }\n",
              "\n",
              "    [theme=dark] .colab-df-convert:hover {\n",
              "      background-color: #434B5C;\n",
              "      box-shadow: 0px 1px 3px 1px rgba(0, 0, 0, 0.15);\n",
              "      filter: drop-shadow(0px 1px 2px rgba(0, 0, 0, 0.3));\n",
              "      fill: #FFFFFF;\n",
              "    }\n",
              "  </style>\n",
              "\n",
              "    <script>\n",
              "      const buttonEl =\n",
              "        document.querySelector('#df-fe5954bc-7429-4750-9f6b-ee75ca624758 button.colab-df-convert');\n",
              "      buttonEl.style.display =\n",
              "        google.colab.kernel.accessAllowed ? 'block' : 'none';\n",
              "\n",
              "      async function convertToInteractive(key) {\n",
              "        const element = document.querySelector('#df-fe5954bc-7429-4750-9f6b-ee75ca624758');\n",
              "        const dataTable =\n",
              "          await google.colab.kernel.invokeFunction('convertToInteractive',\n",
              "                                                    [key], {});\n",
              "        if (!dataTable) return;\n",
              "\n",
              "        const docLinkHtml = 'Like what you see? Visit the ' +\n",
              "          '<a target=\"_blank\" href=https://colab.research.google.com/notebooks/data_table.ipynb>data table notebook</a>'\n",
              "          + ' to learn more about interactive tables.';\n",
              "        element.innerHTML = '';\n",
              "        dataTable['output_type'] = 'display_data';\n",
              "        await google.colab.output.renderOutput(dataTable, element);\n",
              "        const docLink = document.createElement('div');\n",
              "        docLink.innerHTML = docLinkHtml;\n",
              "        element.appendChild(docLink);\n",
              "      }\n",
              "    </script>\n",
              "  </div>\n",
              "\n",
              "    </div>\n",
              "  </div>\n"
            ]
          },
          "metadata": {},
          "execution_count": 21
        }
      ]
    },
    {
      "cell_type": "code",
      "source": [
        "print('id',raw_data['id'].nunique())\n",
        "print('member id',raw_data['member_id'].nunique())"
      ],
      "metadata": {
        "colab": {
          "base_uri": "https://localhost:8080/"
        },
        "id": "6QL9MDr-WTn-",
        "outputId": "e503a682-c565-4a96-aaeb-d704d7264a46"
      },
      "execution_count": null,
      "outputs": [
        {
          "output_type": "stream",
          "name": "stdout",
          "text": [
            "id 466285\n",
            "member id 466285\n"
          ]
        }
      ]
    },
    {
      "cell_type": "markdown",
      "source": [
        "*Data tidak terdapat duplikat*"
      ],
      "metadata": {
        "id": "VxtCkjWoWX4r"
      }
    },
    {
      "cell_type": "markdown",
      "source": [
        "Menghapus fitur fitur yang kurang berguna"
      ],
      "metadata": {
        "id": "kbNoCD6vXCXD"
      }
    },
    {
      "cell_type": "code",
      "source": [
        "cols_to_drop = [\n",
        "    # unique id\n",
        "    'id'\n",
        "    , 'member_id'\n",
        "\n",
        "    # free text\n",
        "    , 'url'\n",
        "    , 'desc'\n",
        "\n",
        "    # all null / constant / others\n",
        "    , 'zip_code'\n",
        "    , 'annual_inc_joint'\n",
        "    , 'dti_joint'\n",
        "    , 'verification_status_joint'\n",
        "    , 'open_acc_6m'\n",
        "    , 'open_il_6m'\n",
        "    , 'open_il_12m'\n",
        "    , 'open_il_24m'\n",
        "    , 'mths_since_rcnt_il'\n",
        "    , 'total_bal_il'\n",
        "    , 'il_util'\n",
        "    , 'open_rv_12m'\n",
        "    , 'open_rv_24m'\n",
        "    , 'max_bal_bc'\n",
        "    , 'all_util'\n",
        "    , 'inq_fi'\n",
        "    , 'total_cu_tl'\n",
        "    , 'inq_last_12m'\n",
        "\n",
        "    # expert judgment\n",
        "    , 'sub_grade'\n",
        "]"
      ],
      "metadata": {
        "id": "PE4h7CXkW6Y2"
      },
      "execution_count": null,
      "outputs": []
    },
    {
      "cell_type": "code",
      "source": [
        "data = raw_data.drop(cols_to_drop, axis=1)"
      ],
      "metadata": {
        "id": "POItIk0uXViw"
      },
      "execution_count": null,
      "outputs": []
    },
    {
      "cell_type": "code",
      "source": [
        "data.sample(5)"
      ],
      "metadata": {
        "colab": {
          "base_uri": "https://localhost:8080/",
          "height": 429
        },
        "id": "X8xR_hJ8XqUO",
        "outputId": "9a0ec764-0927-4b37-e699-868cf16f7002"
      },
      "execution_count": null,
      "outputs": [
        {
          "output_type": "execute_result",
          "data": {
            "text/plain": [
              "        Unnamed: 0  loan_amnt  funded_amnt  funded_amnt_inv        term  \\\n",
              "296453      296453      15000        15000          15000.0   60 months   \n",
              "90319        90319      35000        35000          35000.0   60 months   \n",
              "383035      383035      28000        28000          28000.0   36 months   \n",
              "379643      379643      11000        11000          11000.0   36 months   \n",
              "431332      431332      16200        16200          16200.0   60 months   \n",
              "\n",
              "        int_rate  installment grade                             emp_title  \\\n",
              "296453     12.99       341.22     C                                    VP   \n",
              "90319      24.99      1027.10     F          Presidio Networked Solutions   \n",
              "383035      7.12       866.10     A          Construction Project Manager   \n",
              "379643     16.29       388.31     D                                 Clerk   \n",
              "431332     21.18       439.91     E  In Patient, Patient Acees Supervisor   \n",
              "\n",
              "       emp_length  ... next_pymnt_d  last_credit_pull_d  \\\n",
              "296453    3 years  ...       Feb-16              Jan-16   \n",
              "90319     2 years  ...          NaN              May-15   \n",
              "383035    7 years  ...       Jan-16              Jan-16   \n",
              "379643  10+ years  ...          NaN              Jan-16   \n",
              "431332    9 years  ...       Feb-16              Jan-16   \n",
              "\n",
              "       collections_12_mths_ex_med mths_since_last_major_derog policy_code  \\\n",
              "296453                        0.0                        59.0           1   \n",
              "90319                         0.0                        35.0           1   \n",
              "383035                        0.0                         NaN           1   \n",
              "379643                        0.0                         NaN           1   \n",
              "431332                        0.0                        16.0           1   \n",
              "\n",
              "       application_type acc_now_delinq tot_coll_amt tot_cur_bal  \\\n",
              "296453       INDIVIDUAL            0.0          0.0     97553.0   \n",
              "90319        INDIVIDUAL            0.0          0.0     18051.0   \n",
              "383035       INDIVIDUAL            0.0        627.0    275362.0   \n",
              "379643       INDIVIDUAL            0.0          0.0     39452.0   \n",
              "431332       INDIVIDUAL            0.0          0.0     14167.0   \n",
              "\n",
              "        total_rev_hi_lim  \n",
              "296453           11500.0  \n",
              "90319            14700.0  \n",
              "383035           47100.0  \n",
              "379643           24300.0  \n",
              "431332           18570.0  \n",
              "\n",
              "[5 rows x 52 columns]"
            ],
            "text/html": [
              "\n",
              "  <div id=\"df-89409481-3ed6-433f-b1a6-c077135b40a3\" class=\"colab-df-container\">\n",
              "    <div>\n",
              "<style scoped>\n",
              "    .dataframe tbody tr th:only-of-type {\n",
              "        vertical-align: middle;\n",
              "    }\n",
              "\n",
              "    .dataframe tbody tr th {\n",
              "        vertical-align: top;\n",
              "    }\n",
              "\n",
              "    .dataframe thead th {\n",
              "        text-align: right;\n",
              "    }\n",
              "</style>\n",
              "<table border=\"1\" class=\"dataframe\">\n",
              "  <thead>\n",
              "    <tr style=\"text-align: right;\">\n",
              "      <th></th>\n",
              "      <th>Unnamed: 0</th>\n",
              "      <th>loan_amnt</th>\n",
              "      <th>funded_amnt</th>\n",
              "      <th>funded_amnt_inv</th>\n",
              "      <th>term</th>\n",
              "      <th>int_rate</th>\n",
              "      <th>installment</th>\n",
              "      <th>grade</th>\n",
              "      <th>emp_title</th>\n",
              "      <th>emp_length</th>\n",
              "      <th>...</th>\n",
              "      <th>next_pymnt_d</th>\n",
              "      <th>last_credit_pull_d</th>\n",
              "      <th>collections_12_mths_ex_med</th>\n",
              "      <th>mths_since_last_major_derog</th>\n",
              "      <th>policy_code</th>\n",
              "      <th>application_type</th>\n",
              "      <th>acc_now_delinq</th>\n",
              "      <th>tot_coll_amt</th>\n",
              "      <th>tot_cur_bal</th>\n",
              "      <th>total_rev_hi_lim</th>\n",
              "    </tr>\n",
              "  </thead>\n",
              "  <tbody>\n",
              "    <tr>\n",
              "      <th>296453</th>\n",
              "      <td>296453</td>\n",
              "      <td>15000</td>\n",
              "      <td>15000</td>\n",
              "      <td>15000.0</td>\n",
              "      <td>60 months</td>\n",
              "      <td>12.99</td>\n",
              "      <td>341.22</td>\n",
              "      <td>C</td>\n",
              "      <td>VP</td>\n",
              "      <td>3 years</td>\n",
              "      <td>...</td>\n",
              "      <td>Feb-16</td>\n",
              "      <td>Jan-16</td>\n",
              "      <td>0.0</td>\n",
              "      <td>59.0</td>\n",
              "      <td>1</td>\n",
              "      <td>INDIVIDUAL</td>\n",
              "      <td>0.0</td>\n",
              "      <td>0.0</td>\n",
              "      <td>97553.0</td>\n",
              "      <td>11500.0</td>\n",
              "    </tr>\n",
              "    <tr>\n",
              "      <th>90319</th>\n",
              "      <td>90319</td>\n",
              "      <td>35000</td>\n",
              "      <td>35000</td>\n",
              "      <td>35000.0</td>\n",
              "      <td>60 months</td>\n",
              "      <td>24.99</td>\n",
              "      <td>1027.10</td>\n",
              "      <td>F</td>\n",
              "      <td>Presidio Networked Solutions</td>\n",
              "      <td>2 years</td>\n",
              "      <td>...</td>\n",
              "      <td>NaN</td>\n",
              "      <td>May-15</td>\n",
              "      <td>0.0</td>\n",
              "      <td>35.0</td>\n",
              "      <td>1</td>\n",
              "      <td>INDIVIDUAL</td>\n",
              "      <td>0.0</td>\n",
              "      <td>0.0</td>\n",
              "      <td>18051.0</td>\n",
              "      <td>14700.0</td>\n",
              "    </tr>\n",
              "    <tr>\n",
              "      <th>383035</th>\n",
              "      <td>383035</td>\n",
              "      <td>28000</td>\n",
              "      <td>28000</td>\n",
              "      <td>28000.0</td>\n",
              "      <td>36 months</td>\n",
              "      <td>7.12</td>\n",
              "      <td>866.10</td>\n",
              "      <td>A</td>\n",
              "      <td>Construction Project Manager</td>\n",
              "      <td>7 years</td>\n",
              "      <td>...</td>\n",
              "      <td>Jan-16</td>\n",
              "      <td>Jan-16</td>\n",
              "      <td>0.0</td>\n",
              "      <td>NaN</td>\n",
              "      <td>1</td>\n",
              "      <td>INDIVIDUAL</td>\n",
              "      <td>0.0</td>\n",
              "      <td>627.0</td>\n",
              "      <td>275362.0</td>\n",
              "      <td>47100.0</td>\n",
              "    </tr>\n",
              "    <tr>\n",
              "      <th>379643</th>\n",
              "      <td>379643</td>\n",
              "      <td>11000</td>\n",
              "      <td>11000</td>\n",
              "      <td>11000.0</td>\n",
              "      <td>36 months</td>\n",
              "      <td>16.29</td>\n",
              "      <td>388.31</td>\n",
              "      <td>D</td>\n",
              "      <td>Clerk</td>\n",
              "      <td>10+ years</td>\n",
              "      <td>...</td>\n",
              "      <td>NaN</td>\n",
              "      <td>Jan-16</td>\n",
              "      <td>0.0</td>\n",
              "      <td>NaN</td>\n",
              "      <td>1</td>\n",
              "      <td>INDIVIDUAL</td>\n",
              "      <td>0.0</td>\n",
              "      <td>0.0</td>\n",
              "      <td>39452.0</td>\n",
              "      <td>24300.0</td>\n",
              "    </tr>\n",
              "    <tr>\n",
              "      <th>431332</th>\n",
              "      <td>431332</td>\n",
              "      <td>16200</td>\n",
              "      <td>16200</td>\n",
              "      <td>16200.0</td>\n",
              "      <td>60 months</td>\n",
              "      <td>21.18</td>\n",
              "      <td>439.91</td>\n",
              "      <td>E</td>\n",
              "      <td>In Patient, Patient Acees Supervisor</td>\n",
              "      <td>9 years</td>\n",
              "      <td>...</td>\n",
              "      <td>Feb-16</td>\n",
              "      <td>Jan-16</td>\n",
              "      <td>0.0</td>\n",
              "      <td>16.0</td>\n",
              "      <td>1</td>\n",
              "      <td>INDIVIDUAL</td>\n",
              "      <td>0.0</td>\n",
              "      <td>0.0</td>\n",
              "      <td>14167.0</td>\n",
              "      <td>18570.0</td>\n",
              "    </tr>\n",
              "  </tbody>\n",
              "</table>\n",
              "<p>5 rows × 52 columns</p>\n",
              "</div>\n",
              "    <div class=\"colab-df-buttons\">\n",
              "\n",
              "  <div class=\"colab-df-container\">\n",
              "    <button class=\"colab-df-convert\" onclick=\"convertToInteractive('df-89409481-3ed6-433f-b1a6-c077135b40a3')\"\n",
              "            title=\"Convert this dataframe to an interactive table.\"\n",
              "            style=\"display:none;\">\n",
              "\n",
              "  <svg xmlns=\"http://www.w3.org/2000/svg\" height=\"24px\" viewBox=\"0 -960 960 960\">\n",
              "    <path d=\"M120-120v-720h720v720H120Zm60-500h600v-160H180v160Zm220 220h160v-160H400v160Zm0 220h160v-160H400v160ZM180-400h160v-160H180v160Zm440 0h160v-160H620v160ZM180-180h160v-160H180v160Zm440 0h160v-160H620v160Z\"/>\n",
              "  </svg>\n",
              "    </button>\n",
              "\n",
              "  <style>\n",
              "    .colab-df-container {\n",
              "      display:flex;\n",
              "      gap: 12px;\n",
              "    }\n",
              "\n",
              "    .colab-df-convert {\n",
              "      background-color: #E8F0FE;\n",
              "      border: none;\n",
              "      border-radius: 50%;\n",
              "      cursor: pointer;\n",
              "      display: none;\n",
              "      fill: #1967D2;\n",
              "      height: 32px;\n",
              "      padding: 0 0 0 0;\n",
              "      width: 32px;\n",
              "    }\n",
              "\n",
              "    .colab-df-convert:hover {\n",
              "      background-color: #E2EBFA;\n",
              "      box-shadow: 0px 1px 2px rgba(60, 64, 67, 0.3), 0px 1px 3px 1px rgba(60, 64, 67, 0.15);\n",
              "      fill: #174EA6;\n",
              "    }\n",
              "\n",
              "    .colab-df-buttons div {\n",
              "      margin-bottom: 4px;\n",
              "    }\n",
              "\n",
              "    [theme=dark] .colab-df-convert {\n",
              "      background-color: #3B4455;\n",
              "      fill: #D2E3FC;\n",
              "    }\n",
              "\n",
              "    [theme=dark] .colab-df-convert:hover {\n",
              "      background-color: #434B5C;\n",
              "      box-shadow: 0px 1px 3px 1px rgba(0, 0, 0, 0.15);\n",
              "      filter: drop-shadow(0px 1px 2px rgba(0, 0, 0, 0.3));\n",
              "      fill: #FFFFFF;\n",
              "    }\n",
              "  </style>\n",
              "\n",
              "    <script>\n",
              "      const buttonEl =\n",
              "        document.querySelector('#df-89409481-3ed6-433f-b1a6-c077135b40a3 button.colab-df-convert');\n",
              "      buttonEl.style.display =\n",
              "        google.colab.kernel.accessAllowed ? 'block' : 'none';\n",
              "\n",
              "      async function convertToInteractive(key) {\n",
              "        const element = document.querySelector('#df-89409481-3ed6-433f-b1a6-c077135b40a3');\n",
              "        const dataTable =\n",
              "          await google.colab.kernel.invokeFunction('convertToInteractive',\n",
              "                                                    [key], {});\n",
              "        if (!dataTable) return;\n",
              "\n",
              "        const docLinkHtml = 'Like what you see? Visit the ' +\n",
              "          '<a target=\"_blank\" href=https://colab.research.google.com/notebooks/data_table.ipynb>data table notebook</a>'\n",
              "          + ' to learn more about interactive tables.';\n",
              "        element.innerHTML = '';\n",
              "        dataTable['output_type'] = 'display_data';\n",
              "        await google.colab.output.renderOutput(dataTable, element);\n",
              "        const docLink = document.createElement('div');\n",
              "        docLink.innerHTML = docLinkHtml;\n",
              "        element.appendChild(docLink);\n",
              "      }\n",
              "    </script>\n",
              "  </div>\n",
              "\n",
              "\n",
              "<div id=\"df-e97453a3-be25-4b1a-9507-9867f3d59279\">\n",
              "  <button class=\"colab-df-quickchart\" onclick=\"quickchart('df-e97453a3-be25-4b1a-9507-9867f3d59279')\"\n",
              "            title=\"Suggest charts\"\n",
              "            style=\"display:none;\">\n",
              "\n",
              "<svg xmlns=\"http://www.w3.org/2000/svg\" height=\"24px\"viewBox=\"0 0 24 24\"\n",
              "     width=\"24px\">\n",
              "    <g>\n",
              "        <path d=\"M19 3H5c-1.1 0-2 .9-2 2v14c0 1.1.9 2 2 2h14c1.1 0 2-.9 2-2V5c0-1.1-.9-2-2-2zM9 17H7v-7h2v7zm4 0h-2V7h2v10zm4 0h-2v-4h2v4z\"/>\n",
              "    </g>\n",
              "</svg>\n",
              "  </button>\n",
              "\n",
              "<style>\n",
              "  .colab-df-quickchart {\n",
              "      --bg-color: #E8F0FE;\n",
              "      --fill-color: #1967D2;\n",
              "      --hover-bg-color: #E2EBFA;\n",
              "      --hover-fill-color: #174EA6;\n",
              "      --disabled-fill-color: #AAA;\n",
              "      --disabled-bg-color: #DDD;\n",
              "  }\n",
              "\n",
              "  [theme=dark] .colab-df-quickchart {\n",
              "      --bg-color: #3B4455;\n",
              "      --fill-color: #D2E3FC;\n",
              "      --hover-bg-color: #434B5C;\n",
              "      --hover-fill-color: #FFFFFF;\n",
              "      --disabled-bg-color: #3B4455;\n",
              "      --disabled-fill-color: #666;\n",
              "  }\n",
              "\n",
              "  .colab-df-quickchart {\n",
              "    background-color: var(--bg-color);\n",
              "    border: none;\n",
              "    border-radius: 50%;\n",
              "    cursor: pointer;\n",
              "    display: none;\n",
              "    fill: var(--fill-color);\n",
              "    height: 32px;\n",
              "    padding: 0;\n",
              "    width: 32px;\n",
              "  }\n",
              "\n",
              "  .colab-df-quickchart:hover {\n",
              "    background-color: var(--hover-bg-color);\n",
              "    box-shadow: 0 1px 2px rgba(60, 64, 67, 0.3), 0 1px 3px 1px rgba(60, 64, 67, 0.15);\n",
              "    fill: var(--button-hover-fill-color);\n",
              "  }\n",
              "\n",
              "  .colab-df-quickchart-complete:disabled,\n",
              "  .colab-df-quickchart-complete:disabled:hover {\n",
              "    background-color: var(--disabled-bg-color);\n",
              "    fill: var(--disabled-fill-color);\n",
              "    box-shadow: none;\n",
              "  }\n",
              "\n",
              "  .colab-df-spinner {\n",
              "    border: 2px solid var(--fill-color);\n",
              "    border-color: transparent;\n",
              "    border-bottom-color: var(--fill-color);\n",
              "    animation:\n",
              "      spin 1s steps(1) infinite;\n",
              "  }\n",
              "\n",
              "  @keyframes spin {\n",
              "    0% {\n",
              "      border-color: transparent;\n",
              "      border-bottom-color: var(--fill-color);\n",
              "      border-left-color: var(--fill-color);\n",
              "    }\n",
              "    20% {\n",
              "      border-color: transparent;\n",
              "      border-left-color: var(--fill-color);\n",
              "      border-top-color: var(--fill-color);\n",
              "    }\n",
              "    30% {\n",
              "      border-color: transparent;\n",
              "      border-left-color: var(--fill-color);\n",
              "      border-top-color: var(--fill-color);\n",
              "      border-right-color: var(--fill-color);\n",
              "    }\n",
              "    40% {\n",
              "      border-color: transparent;\n",
              "      border-right-color: var(--fill-color);\n",
              "      border-top-color: var(--fill-color);\n",
              "    }\n",
              "    60% {\n",
              "      border-color: transparent;\n",
              "      border-right-color: var(--fill-color);\n",
              "    }\n",
              "    80% {\n",
              "      border-color: transparent;\n",
              "      border-right-color: var(--fill-color);\n",
              "      border-bottom-color: var(--fill-color);\n",
              "    }\n",
              "    90% {\n",
              "      border-color: transparent;\n",
              "      border-bottom-color: var(--fill-color);\n",
              "    }\n",
              "  }\n",
              "</style>\n",
              "\n",
              "  <script>\n",
              "    async function quickchart(key) {\n",
              "      const quickchartButtonEl =\n",
              "        document.querySelector('#' + key + ' button');\n",
              "      quickchartButtonEl.disabled = true;  // To prevent multiple clicks.\n",
              "      quickchartButtonEl.classList.add('colab-df-spinner');\n",
              "      try {\n",
              "        const charts = await google.colab.kernel.invokeFunction(\n",
              "            'suggestCharts', [key], {});\n",
              "      } catch (error) {\n",
              "        console.error('Error during call to suggestCharts:', error);\n",
              "      }\n",
              "      quickchartButtonEl.classList.remove('colab-df-spinner');\n",
              "      quickchartButtonEl.classList.add('colab-df-quickchart-complete');\n",
              "    }\n",
              "    (() => {\n",
              "      let quickchartButtonEl =\n",
              "        document.querySelector('#df-e97453a3-be25-4b1a-9507-9867f3d59279 button');\n",
              "      quickchartButtonEl.style.display =\n",
              "        google.colab.kernel.accessAllowed ? 'block' : 'none';\n",
              "    })();\n",
              "  </script>\n",
              "</div>\n",
              "    </div>\n",
              "  </div>\n"
            ]
          },
          "metadata": {},
          "execution_count": 24
        }
      ]
    },
    {
      "cell_type": "markdown",
      "source": [
        "# Define Target Variable\n",
        "\n",
        "Dalam Dataset saya menggunakan *loan_status* yang dimana variable tersebut mencerminkan performa masing masing individu dterhadap pinjaman/kredit selama ini"
      ],
      "metadata": {
        "id": "w_ONcQM0Xznr"
      }
    },
    {
      "cell_type": "code",
      "source": [
        "data.loan_status.value_counts(normalize=True)*100"
      ],
      "metadata": {
        "colab": {
          "base_uri": "https://localhost:8080/"
        },
        "id": "JOWHK3JvYmmP",
        "outputId": "61405885-ae71-4435-d268-2da67a03a015"
      },
      "execution_count": null,
      "outputs": [
        {
          "output_type": "execute_result",
          "data": {
            "text/plain": [
              "Current                                                48.087757\n",
              "Fully Paid                                             39.619332\n",
              "Charged Off                                             9.109236\n",
              "Late (31-120 days)                                      1.479782\n",
              "In Grace Period                                         0.674695\n",
              "Does not meet the credit policy. Status:Fully Paid      0.426349\n",
              "Late (16-30 days)                                       0.261214\n",
              "Default                                                 0.178432\n",
              "Does not meet the credit policy. Status:Charged Off     0.163205\n",
              "Name: loan_status, dtype: float64"
            ]
          },
          "metadata": {},
          "execution_count": 25
        }
      ]
    },
    {
      "cell_type": "markdown",
      "source": [
        "Bisa dilihat *loan_status* memiliki beberapa nilai antara lain:\n",
        "\n",
        "1. *Current* artinya pembayaran lancar\n",
        "2. *Charged Off* artinya pembayaran macet sehingga dihapusbukukan\n",
        "3. *Late* artinya pembayaran telat dilakukan\n",
        "4. *In Grace Period* artinya dalam masa tenggang\n",
        "5. *Fully Paid* artinya pembayaran lunas\n",
        "6. *Default* artinya pembayaran macet\n",
        "\n",
        "Dari definisi-definisi tersebut, masing-masing individu dapat ditandai apakah mereka merupakan *bad loan* (peminjam yang buruk) atau *good loan* (peminjam yang baik)\n",
        "\n",
        "Disini saya menggunakan keterlambatan pembayaran diatas 30 hari dan apabila lebih dari itu maka termasuk *bad_loan*"
      ],
      "metadata": {
        "id": "zjpgz-NLY5SH"
      }
    },
    {
      "cell_type": "code",
      "source": [
        "bad_status = [\n",
        "    'Charged Off'\n",
        "    , 'Default'\n",
        "    , 'Does not meet the credit policy. Status:Charged Off'\n",
        "    , 'Late (31-120 days)'\n",
        "]\n",
        "\n",
        "data['bad_flag'] = np.where(data['loan_status'].isin(bad_status), 1, 0)"
      ],
      "metadata": {
        "id": "xHUiu4aca4rO"
      },
      "execution_count": null,
      "outputs": []
    },
    {
      "cell_type": "code",
      "source": [
        "data['bad_flag'].value_counts(normalize=True)*100"
      ],
      "metadata": {
        "colab": {
          "base_uri": "https://localhost:8080/"
        },
        "id": "sSxGTB1VnT5E",
        "outputId": "491f4dd1-fd27-4994-ff5a-c40d47831f67"
      },
      "execution_count": null,
      "outputs": [
        {
          "output_type": "execute_result",
          "data": {
            "text/plain": [
              "0    89.069346\n",
              "1    10.930654\n",
              "Name: bad_flag, dtype: float64"
            ]
          },
          "metadata": {},
          "execution_count": 27
        }
      ]
    },
    {
      "cell_type": "code",
      "source": [
        "data.drop('loan_status', axis=1, inplace=True)"
      ],
      "metadata": {
        "id": "qdnCXalfnlqj"
      },
      "execution_count": null,
      "outputs": []
    },
    {
      "cell_type": "markdown",
      "source": [
        "Setelah melakukan penetapan terhadap bad/good loan, dapat dilihat jika data *bad_loan* jauh lebih sedikit daripada *good_loan* sehingga mengakibatkan imbalanced data. Serta disitu dilakukan pembuangan kolom asal *loan_status*"
      ],
      "metadata": {
        "id": "i4SAGixpnp1t"
      }
    },
    {
      "cell_type": "markdown",
      "source": [
        "# Cleaning, Preprocessing, Feature Engineering\n",
        "Di step ini dilakukan cleaning serta modifikasi beberapa fitur agar dapat digunakan untuk modeling"
      ],
      "metadata": {
        "id": "A31f8zbCogxN"
      }
    },
    {
      "cell_type": "markdown",
      "source": [
        "## *emp_length*"
      ],
      "metadata": {
        "id": "4VDKBhJtop6d"
      }
    },
    {
      "cell_type": "code",
      "source": [
        "data['emp_length'].unique()"
      ],
      "metadata": {
        "colab": {
          "base_uri": "https://localhost:8080/"
        },
        "id": "alWrqe_eoIBw",
        "outputId": "bbd8473e-3a8f-4466-dfb2-6f47f0b05b4a"
      },
      "execution_count": null,
      "outputs": [
        {
          "output_type": "execute_result",
          "data": {
            "text/plain": [
              "array(['10+ years', '< 1 year', '1 year', '3 years', '8 years', '9 years',\n",
              "       '4 years', '5 years', '6 years', '2 years', '7 years', nan],\n",
              "      dtype=object)"
            ]
          },
          "metadata": {},
          "execution_count": 29
        }
      ]
    },
    {
      "cell_type": "code",
      "source": [
        "data['emp_length_int'] = data['emp_length'].str.replace('\\+ years', '')\n",
        "data['emp_length_int'] = data['emp_length_int'].str.replace('< 1 year', str(0))\n",
        "data['emp_length_int'] = data['emp_length_int'].str.replace(' years', '')\n",
        "data['emp_length_int'] = data['emp_length_int'].str.replace(' year', '')"
      ],
      "metadata": {
        "colab": {
          "base_uri": "https://localhost:8080/"
        },
        "id": "Tznm1-ajpQfc",
        "outputId": "ee463c97-77d9-4a67-8ea5-ef5c12736dfd"
      },
      "execution_count": null,
      "outputs": [
        {
          "output_type": "stream",
          "name": "stderr",
          "text": [
            "<ipython-input-30-a93402c6aad3>:1: FutureWarning: The default value of regex will change from True to False in a future version.\n",
            "  data['emp_length_int'] = data['emp_length'].str.replace('\\+ years', '')\n"
          ]
        }
      ]
    },
    {
      "cell_type": "code",
      "source": [
        "data['emp_length_int'] = data['emp_length_int'].astype(float)"
      ],
      "metadata": {
        "id": "uIDGljbkpcWy"
      },
      "execution_count": null,
      "outputs": []
    },
    {
      "cell_type": "code",
      "source": [
        "data.drop('emp_length', axis=1, inplace=True)"
      ],
      "metadata": {
        "id": "IUP7gO5npjIX"
      },
      "execution_count": null,
      "outputs": []
    },
    {
      "cell_type": "markdown",
      "source": [
        "## *term*"
      ],
      "metadata": {
        "id": "JUxQCXoqplvu"
      }
    },
    {
      "cell_type": "code",
      "source": [
        "data['term'].unique()"
      ],
      "metadata": {
        "colab": {
          "base_uri": "https://localhost:8080/"
        },
        "id": "NpsS304HpqPr",
        "outputId": "9bb815d5-ad6e-4ef7-df32-025ef71e56b8"
      },
      "execution_count": null,
      "outputs": [
        {
          "output_type": "execute_result",
          "data": {
            "text/plain": [
              "array([' 36 months', ' 60 months'], dtype=object)"
            ]
          },
          "metadata": {},
          "execution_count": 33
        }
      ]
    },
    {
      "cell_type": "code",
      "source": [
        "data['term_int'] = data['term'].str.replace(' months', '')\n",
        "data['term_int'] = data['term_int'].astype(float)"
      ],
      "metadata": {
        "id": "bLdcepKdptRl"
      },
      "execution_count": null,
      "outputs": []
    },
    {
      "cell_type": "code",
      "source": [
        "data.drop('term', axis=1, inplace=True)"
      ],
      "metadata": {
        "id": "zXPiglI5pt5b"
      },
      "execution_count": null,
      "outputs": []
    },
    {
      "cell_type": "markdown",
      "source": [
        "## *earliest_cr_line*"
      ],
      "metadata": {
        "id": "PJkFYPBZpzi9"
      }
    },
    {
      "cell_type": "code",
      "source": [
        "data['earliest_cr_line'].head(3)"
      ],
      "metadata": {
        "colab": {
          "base_uri": "https://localhost:8080/"
        },
        "id": "0e-SbZsRp2bL",
        "outputId": "10ba040e-a641-4b7d-ec82-3433ec98734f"
      },
      "execution_count": null,
      "outputs": [
        {
          "output_type": "execute_result",
          "data": {
            "text/plain": [
              "0    Jan-85\n",
              "1    Apr-99\n",
              "2    Nov-01\n",
              "Name: earliest_cr_line, dtype: object"
            ]
          },
          "metadata": {},
          "execution_count": 36
        }
      ]
    },
    {
      "cell_type": "code",
      "source": [
        "data['earliest_cr_line_date'] = pd.to_datetime(data['earliest_cr_line'], format='%b-%y')\n",
        "data['earliest_cr_line_date'].head(3)"
      ],
      "metadata": {
        "colab": {
          "base_uri": "https://localhost:8080/"
        },
        "id": "vtdW8xuEp3_I",
        "outputId": "feee16e5-2ec1-4456-c9d1-934b4d40b5be"
      },
      "execution_count": null,
      "outputs": [
        {
          "output_type": "execute_result",
          "data": {
            "text/plain": [
              "0   1985-01-01\n",
              "1   1999-04-01\n",
              "2   2001-11-01\n",
              "Name: earliest_cr_line_date, dtype: datetime64[ns]"
            ]
          },
          "metadata": {},
          "execution_count": 37
        }
      ]
    },
    {
      "cell_type": "code",
      "source": [
        "data['mths_since_earliest_cr_line'] = round(pd.to_numeric((pd.to_datetime('2017-12-01') - data['earliest_cr_line_date']) / np.timedelta64(1, 'M')))\n",
        "data['mths_since_earliest_cr_line'].head(3)"
      ],
      "metadata": {
        "colab": {
          "base_uri": "https://localhost:8080/"
        },
        "id": "bFQHPEgCp7Co",
        "outputId": "65dbfce1-7378-42e0-933e-2a2f4307b793"
      },
      "execution_count": null,
      "outputs": [
        {
          "output_type": "execute_result",
          "data": {
            "text/plain": [
              "0    395.0\n",
              "1    224.0\n",
              "2    193.0\n",
              "Name: mths_since_earliest_cr_line, dtype: float64"
            ]
          },
          "metadata": {},
          "execution_count": 38
        }
      ]
    },
    {
      "cell_type": "code",
      "source": [
        "data['mths_since_earliest_cr_line'].describe()"
      ],
      "metadata": {
        "colab": {
          "base_uri": "https://localhost:8080/"
        },
        "id": "sGvvms8mp8mq",
        "outputId": "ba89267b-6fed-4a65-df5a-d3aad49aa17d"
      },
      "execution_count": null,
      "outputs": [
        {
          "output_type": "execute_result",
          "data": {
            "text/plain": [
              "count    466256.000000\n",
              "mean        239.482430\n",
              "std          93.974829\n",
              "min        -612.000000\n",
              "25%         183.000000\n",
              "50%         225.000000\n",
              "75%         285.000000\n",
              "max         587.000000\n",
              "Name: mths_since_earliest_cr_line, dtype: float64"
            ]
          },
          "metadata": {},
          "execution_count": 39
        }
      ]
    },
    {
      "cell_type": "code",
      "source": [
        "data[data['mths_since_earliest_cr_line']<0][['earliest_cr_line', 'earliest_cr_line_date', 'mths_since_earliest_cr_line']].head(3)"
      ],
      "metadata": {
        "colab": {
          "base_uri": "https://localhost:8080/",
          "height": 144
        },
        "id": "xN1s1PNusJJe",
        "outputId": "b6cad3a8-3aba-4f86-ad35-1327984ac8b4"
      },
      "execution_count": null,
      "outputs": [
        {
          "output_type": "execute_result",
          "data": {
            "text/plain": [
              "     earliest_cr_line earliest_cr_line_date  mths_since_earliest_cr_line\n",
              "1580           Sep-62            2062-09-01                       -537.0\n",
              "1770           Sep-68            2068-09-01                       -609.0\n",
              "2799           Sep-64            2064-09-01                       -561.0"
            ],
            "text/html": [
              "\n",
              "  <div id=\"df-ab743bc6-76f8-4cc5-9610-de1e1155d4e0\" class=\"colab-df-container\">\n",
              "    <div>\n",
              "<style scoped>\n",
              "    .dataframe tbody tr th:only-of-type {\n",
              "        vertical-align: middle;\n",
              "    }\n",
              "\n",
              "    .dataframe tbody tr th {\n",
              "        vertical-align: top;\n",
              "    }\n",
              "\n",
              "    .dataframe thead th {\n",
              "        text-align: right;\n",
              "    }\n",
              "</style>\n",
              "<table border=\"1\" class=\"dataframe\">\n",
              "  <thead>\n",
              "    <tr style=\"text-align: right;\">\n",
              "      <th></th>\n",
              "      <th>earliest_cr_line</th>\n",
              "      <th>earliest_cr_line_date</th>\n",
              "      <th>mths_since_earliest_cr_line</th>\n",
              "    </tr>\n",
              "  </thead>\n",
              "  <tbody>\n",
              "    <tr>\n",
              "      <th>1580</th>\n",
              "      <td>Sep-62</td>\n",
              "      <td>2062-09-01</td>\n",
              "      <td>-537.0</td>\n",
              "    </tr>\n",
              "    <tr>\n",
              "      <th>1770</th>\n",
              "      <td>Sep-68</td>\n",
              "      <td>2068-09-01</td>\n",
              "      <td>-609.0</td>\n",
              "    </tr>\n",
              "    <tr>\n",
              "      <th>2799</th>\n",
              "      <td>Sep-64</td>\n",
              "      <td>2064-09-01</td>\n",
              "      <td>-561.0</td>\n",
              "    </tr>\n",
              "  </tbody>\n",
              "</table>\n",
              "</div>\n",
              "    <div class=\"colab-df-buttons\">\n",
              "\n",
              "  <div class=\"colab-df-container\">\n",
              "    <button class=\"colab-df-convert\" onclick=\"convertToInteractive('df-ab743bc6-76f8-4cc5-9610-de1e1155d4e0')\"\n",
              "            title=\"Convert this dataframe to an interactive table.\"\n",
              "            style=\"display:none;\">\n",
              "\n",
              "  <svg xmlns=\"http://www.w3.org/2000/svg\" height=\"24px\" viewBox=\"0 -960 960 960\">\n",
              "    <path d=\"M120-120v-720h720v720H120Zm60-500h600v-160H180v160Zm220 220h160v-160H400v160Zm0 220h160v-160H400v160ZM180-400h160v-160H180v160Zm440 0h160v-160H620v160ZM180-180h160v-160H180v160Zm440 0h160v-160H620v160Z\"/>\n",
              "  </svg>\n",
              "    </button>\n",
              "\n",
              "  <style>\n",
              "    .colab-df-container {\n",
              "      display:flex;\n",
              "      gap: 12px;\n",
              "    }\n",
              "\n",
              "    .colab-df-convert {\n",
              "      background-color: #E8F0FE;\n",
              "      border: none;\n",
              "      border-radius: 50%;\n",
              "      cursor: pointer;\n",
              "      display: none;\n",
              "      fill: #1967D2;\n",
              "      height: 32px;\n",
              "      padding: 0 0 0 0;\n",
              "      width: 32px;\n",
              "    }\n",
              "\n",
              "    .colab-df-convert:hover {\n",
              "      background-color: #E2EBFA;\n",
              "      box-shadow: 0px 1px 2px rgba(60, 64, 67, 0.3), 0px 1px 3px 1px rgba(60, 64, 67, 0.15);\n",
              "      fill: #174EA6;\n",
              "    }\n",
              "\n",
              "    .colab-df-buttons div {\n",
              "      margin-bottom: 4px;\n",
              "    }\n",
              "\n",
              "    [theme=dark] .colab-df-convert {\n",
              "      background-color: #3B4455;\n",
              "      fill: #D2E3FC;\n",
              "    }\n",
              "\n",
              "    [theme=dark] .colab-df-convert:hover {\n",
              "      background-color: #434B5C;\n",
              "      box-shadow: 0px 1px 3px 1px rgba(0, 0, 0, 0.15);\n",
              "      filter: drop-shadow(0px 1px 2px rgba(0, 0, 0, 0.3));\n",
              "      fill: #FFFFFF;\n",
              "    }\n",
              "  </style>\n",
              "\n",
              "    <script>\n",
              "      const buttonEl =\n",
              "        document.querySelector('#df-ab743bc6-76f8-4cc5-9610-de1e1155d4e0 button.colab-df-convert');\n",
              "      buttonEl.style.display =\n",
              "        google.colab.kernel.accessAllowed ? 'block' : 'none';\n",
              "\n",
              "      async function convertToInteractive(key) {\n",
              "        const element = document.querySelector('#df-ab743bc6-76f8-4cc5-9610-de1e1155d4e0');\n",
              "        const dataTable =\n",
              "          await google.colab.kernel.invokeFunction('convertToInteractive',\n",
              "                                                    [key], {});\n",
              "        if (!dataTable) return;\n",
              "\n",
              "        const docLinkHtml = 'Like what you see? Visit the ' +\n",
              "          '<a target=\"_blank\" href=https://colab.research.google.com/notebooks/data_table.ipynb>data table notebook</a>'\n",
              "          + ' to learn more about interactive tables.';\n",
              "        element.innerHTML = '';\n",
              "        dataTable['output_type'] = 'display_data';\n",
              "        await google.colab.output.renderOutput(dataTable, element);\n",
              "        const docLink = document.createElement('div');\n",
              "        docLink.innerHTML = docLinkHtml;\n",
              "        element.appendChild(docLink);\n",
              "      }\n",
              "    </script>\n",
              "  </div>\n",
              "\n",
              "\n",
              "<div id=\"df-7f86ff7e-4c93-41bf-8a6b-1343b12cfdfa\">\n",
              "  <button class=\"colab-df-quickchart\" onclick=\"quickchart('df-7f86ff7e-4c93-41bf-8a6b-1343b12cfdfa')\"\n",
              "            title=\"Suggest charts\"\n",
              "            style=\"display:none;\">\n",
              "\n",
              "<svg xmlns=\"http://www.w3.org/2000/svg\" height=\"24px\"viewBox=\"0 0 24 24\"\n",
              "     width=\"24px\">\n",
              "    <g>\n",
              "        <path d=\"M19 3H5c-1.1 0-2 .9-2 2v14c0 1.1.9 2 2 2h14c1.1 0 2-.9 2-2V5c0-1.1-.9-2-2-2zM9 17H7v-7h2v7zm4 0h-2V7h2v10zm4 0h-2v-4h2v4z\"/>\n",
              "    </g>\n",
              "</svg>\n",
              "  </button>\n",
              "\n",
              "<style>\n",
              "  .colab-df-quickchart {\n",
              "      --bg-color: #E8F0FE;\n",
              "      --fill-color: #1967D2;\n",
              "      --hover-bg-color: #E2EBFA;\n",
              "      --hover-fill-color: #174EA6;\n",
              "      --disabled-fill-color: #AAA;\n",
              "      --disabled-bg-color: #DDD;\n",
              "  }\n",
              "\n",
              "  [theme=dark] .colab-df-quickchart {\n",
              "      --bg-color: #3B4455;\n",
              "      --fill-color: #D2E3FC;\n",
              "      --hover-bg-color: #434B5C;\n",
              "      --hover-fill-color: #FFFFFF;\n",
              "      --disabled-bg-color: #3B4455;\n",
              "      --disabled-fill-color: #666;\n",
              "  }\n",
              "\n",
              "  .colab-df-quickchart {\n",
              "    background-color: var(--bg-color);\n",
              "    border: none;\n",
              "    border-radius: 50%;\n",
              "    cursor: pointer;\n",
              "    display: none;\n",
              "    fill: var(--fill-color);\n",
              "    height: 32px;\n",
              "    padding: 0;\n",
              "    width: 32px;\n",
              "  }\n",
              "\n",
              "  .colab-df-quickchart:hover {\n",
              "    background-color: var(--hover-bg-color);\n",
              "    box-shadow: 0 1px 2px rgba(60, 64, 67, 0.3), 0 1px 3px 1px rgba(60, 64, 67, 0.15);\n",
              "    fill: var(--button-hover-fill-color);\n",
              "  }\n",
              "\n",
              "  .colab-df-quickchart-complete:disabled,\n",
              "  .colab-df-quickchart-complete:disabled:hover {\n",
              "    background-color: var(--disabled-bg-color);\n",
              "    fill: var(--disabled-fill-color);\n",
              "    box-shadow: none;\n",
              "  }\n",
              "\n",
              "  .colab-df-spinner {\n",
              "    border: 2px solid var(--fill-color);\n",
              "    border-color: transparent;\n",
              "    border-bottom-color: var(--fill-color);\n",
              "    animation:\n",
              "      spin 1s steps(1) infinite;\n",
              "  }\n",
              "\n",
              "  @keyframes spin {\n",
              "    0% {\n",
              "      border-color: transparent;\n",
              "      border-bottom-color: var(--fill-color);\n",
              "      border-left-color: var(--fill-color);\n",
              "    }\n",
              "    20% {\n",
              "      border-color: transparent;\n",
              "      border-left-color: var(--fill-color);\n",
              "      border-top-color: var(--fill-color);\n",
              "    }\n",
              "    30% {\n",
              "      border-color: transparent;\n",
              "      border-left-color: var(--fill-color);\n",
              "      border-top-color: var(--fill-color);\n",
              "      border-right-color: var(--fill-color);\n",
              "    }\n",
              "    40% {\n",
              "      border-color: transparent;\n",
              "      border-right-color: var(--fill-color);\n",
              "      border-top-color: var(--fill-color);\n",
              "    }\n",
              "    60% {\n",
              "      border-color: transparent;\n",
              "      border-right-color: var(--fill-color);\n",
              "    }\n",
              "    80% {\n",
              "      border-color: transparent;\n",
              "      border-right-color: var(--fill-color);\n",
              "      border-bottom-color: var(--fill-color);\n",
              "    }\n",
              "    90% {\n",
              "      border-color: transparent;\n",
              "      border-bottom-color: var(--fill-color);\n",
              "    }\n",
              "  }\n",
              "</style>\n",
              "\n",
              "  <script>\n",
              "    async function quickchart(key) {\n",
              "      const quickchartButtonEl =\n",
              "        document.querySelector('#' + key + ' button');\n",
              "      quickchartButtonEl.disabled = true;  // To prevent multiple clicks.\n",
              "      quickchartButtonEl.classList.add('colab-df-spinner');\n",
              "      try {\n",
              "        const charts = await google.colab.kernel.invokeFunction(\n",
              "            'suggestCharts', [key], {});\n",
              "      } catch (error) {\n",
              "        console.error('Error during call to suggestCharts:', error);\n",
              "      }\n",
              "      quickchartButtonEl.classList.remove('colab-df-spinner');\n",
              "      quickchartButtonEl.classList.add('colab-df-quickchart-complete');\n",
              "    }\n",
              "    (() => {\n",
              "      let quickchartButtonEl =\n",
              "        document.querySelector('#df-7f86ff7e-4c93-41bf-8a6b-1343b12cfdfa button');\n",
              "      quickchartButtonEl.style.display =\n",
              "        google.colab.kernel.accessAllowed ? 'block' : 'none';\n",
              "    })();\n",
              "  </script>\n",
              "</div>\n",
              "    </div>\n",
              "  </div>\n"
            ]
          },
          "metadata": {},
          "execution_count": 40
        }
      ]
    },
    {
      "cell_type": "markdown",
      "source": [
        "Disitu terdapat nilai negatif, namun nilai negatif tersebut muncul karena fungsi Python salah menginterpretasikan tahun 62 menjadi tahun 2062, dimana seharusnya merupakan tahun 1962. Kemudian saya lakukan hanya mengubah nilai negatif menjadi nilai maximum dari fitur tersebut, dikarenakan nilai negatif merupakan data yang sudah tua serta masuk akal jika mengganti nilai tersebut menjadi nilai terbesar"
      ],
      "metadata": {
        "id": "M8x7QPl1qFIa"
      }
    },
    {
      "cell_type": "code",
      "source": [
        "data.loc[data['mths_since_earliest_cr_line']<0, 'mths_since_earliest_cr_line'] = data['mths_since_earliest_cr_line'].max()"
      ],
      "metadata": {
        "id": "W6djVXSpqDfq"
      },
      "execution_count": null,
      "outputs": []
    },
    {
      "cell_type": "code",
      "source": [
        "data.drop(['earliest_cr_line', 'earliest_cr_line_date'], axis=1, inplace=True)"
      ],
      "metadata": {
        "id": "2HrpKXtzsWA0"
      },
      "execution_count": null,
      "outputs": []
    },
    {
      "cell_type": "markdown",
      "source": [
        "## *issue_d*"
      ],
      "metadata": {
        "id": "TMaG-M4XtbJz"
      }
    },
    {
      "cell_type": "markdown",
      "source": [
        "Untuk preprocessing disini kurang lebih sama dengan variabel sebelumnya *earlist_cr_line*"
      ],
      "metadata": {
        "id": "LzYdhBlStexp"
      }
    },
    {
      "cell_type": "code",
      "source": [
        "data['issue_d_date'] = pd.to_datetime(data['issue_d'], format='%b-%y')\n",
        "data['mths_since_issue_d'] = round(pd.to_numeric((pd.to_datetime('2017-12-01') - data['issue_d_date']) / np.timedelta64(1, 'M')))"
      ],
      "metadata": {
        "id": "bv_OOL1yteUr"
      },
      "execution_count": null,
      "outputs": []
    },
    {
      "cell_type": "code",
      "source": [
        "data['issue_d_date'] = pd.to_datetime(data['issue_d'], format='%b-%y')\n",
        "data['mths_since_issue_d'] = round(pd.to_numeric((pd.to_datetime('2017-12-01') - data['issue_d_date']) / np.timedelta64(1, 'M')))"
      ],
      "metadata": {
        "id": "rE2OPaPbtsQF"
      },
      "execution_count": null,
      "outputs": []
    },
    {
      "cell_type": "code",
      "source": [
        "data.drop(['issue_d', 'issue_d_date'], axis=1, inplace=True)"
      ],
      "metadata": {
        "id": "0j8Nqv3Ttt1p"
      },
      "execution_count": null,
      "outputs": []
    },
    {
      "cell_type": "markdown",
      "source": [
        "## *last_pymnt_d*"
      ],
      "metadata": {
        "id": "rL5s12LhtyxQ"
      }
    },
    {
      "cell_type": "markdown",
      "source": [
        "Untuk preprocessing disini kurang lebih sama dengan variabel sebelumnya *earlist_cr_line*"
      ],
      "metadata": {
        "id": "pS597CrmtyxX"
      }
    },
    {
      "cell_type": "code",
      "source": [
        "data['last_pymnt_d_date'] = pd.to_datetime(data['last_pymnt_d'], format='%b-%y')\n",
        "data['mths_since_last_pymnt_d'] = round(pd.to_numeric((pd.to_datetime('2017-12-01') - data['last_pymnt_d_date']) / np.timedelta64(1, 'M')))"
      ],
      "metadata": {
        "id": "w1490ETxtyxY"
      },
      "execution_count": null,
      "outputs": []
    },
    {
      "cell_type": "code",
      "source": [
        "data['mths_since_last_pymnt_d'].describe()"
      ],
      "metadata": {
        "colab": {
          "base_uri": "https://localhost:8080/"
        },
        "id": "JBlrK7sKtyxY",
        "outputId": "d7ba1ebb-bdd1-425a-ce7c-5c4511f6abd6"
      },
      "execution_count": null,
      "outputs": [
        {
          "output_type": "execute_result",
          "data": {
            "text/plain": [
              "count    465909.000000\n",
              "mean         31.294369\n",
              "std          12.809898\n",
              "min          23.000000\n",
              "25%          23.000000\n",
              "50%          24.000000\n",
              "75%          35.000000\n",
              "max         120.000000\n",
              "Name: mths_since_last_pymnt_d, dtype: float64"
            ]
          },
          "metadata": {},
          "execution_count": 53
        }
      ]
    },
    {
      "cell_type": "code",
      "source": [
        "data.drop(['last_pymnt_d', 'last_pymnt_d_date'], axis=1, inplace=True)"
      ],
      "metadata": {
        "id": "bAIlcZ-EtyxY"
      },
      "execution_count": null,
      "outputs": []
    },
    {
      "cell_type": "markdown",
      "source": [
        "## *next_pymnt_d*"
      ],
      "metadata": {
        "id": "cUJncFq6t_sZ"
      }
    },
    {
      "cell_type": "markdown",
      "source": [
        "Untuk preprocessing disini kurang lebih sama dengan variabel sebelumnya *earlist_cr_line*"
      ],
      "metadata": {
        "id": "t92jA01Mt_sa"
      }
    },
    {
      "cell_type": "code",
      "source": [
        "data['next_pymnt_d_date'] = pd.to_datetime(data['next_pymnt_d'], format='%b-%y')\n",
        "data['mths_since_next_pymnt_d'] = round(pd.to_numeric((pd.to_datetime('2017-12-01') - data['next_pymnt_d_date']) / np.timedelta64(1, 'M')))"
      ],
      "metadata": {
        "id": "B9H82_Mtt_sa"
      },
      "execution_count": null,
      "outputs": []
    },
    {
      "cell_type": "code",
      "source": [
        "data['mths_since_next_pymnt_d'].describe()"
      ],
      "metadata": {
        "colab": {
          "base_uri": "https://localhost:8080/"
        },
        "outputId": "73624773-a8d2-4569-e8fa-98d517a7c95c",
        "id": "yTTqPjbut_sa"
      },
      "execution_count": null,
      "outputs": [
        {
          "output_type": "execute_result",
          "data": {
            "text/plain": [
              "count    239071.000000\n",
              "mean         22.738136\n",
              "std           6.082298\n",
              "min          21.000000\n",
              "25%          22.000000\n",
              "50%          22.000000\n",
              "75%          22.000000\n",
              "max         120.000000\n",
              "Name: mths_since_next_pymnt_d, dtype: float64"
            ]
          },
          "metadata": {},
          "execution_count": 56
        }
      ]
    },
    {
      "cell_type": "code",
      "source": [
        "data.drop(['next_pymnt_d', 'next_pymnt_d_date'], axis=1, inplace=True)"
      ],
      "metadata": {
        "id": "tIXvdj0Ot_sb"
      },
      "execution_count": null,
      "outputs": []
    },
    {
      "cell_type": "markdown",
      "source": [
        "## *last_credit_pull_d*"
      ],
      "metadata": {
        "id": "JXlydhoxuP-m"
      }
    },
    {
      "cell_type": "markdown",
      "source": [
        "Untuk preprocessing disini kurang lebih sama dengan variabel sebelumnya *earlist_cr_line*"
      ],
      "metadata": {
        "id": "aXuxnCKbuP-m"
      }
    },
    {
      "cell_type": "code",
      "source": [
        "data['last_credit_pull_d_date'] = pd.to_datetime(data['last_credit_pull_d'], format='%b-%y')\n",
        "data['mths_since_last_credit_pull_d'] = round(pd.to_numeric((pd.to_datetime('2017-12-01') - data['last_credit_pull_d_date']) / np.timedelta64(1, 'M')))"
      ],
      "metadata": {
        "id": "Ct6N7NTiuP-m"
      },
      "execution_count": null,
      "outputs": []
    },
    {
      "cell_type": "code",
      "source": [
        "data['mths_since_last_credit_pull_d'].describe()"
      ],
      "metadata": {
        "colab": {
          "base_uri": "https://localhost:8080/"
        },
        "outputId": "9b259433-a1b6-4d68-9d08-057c749d9fbd",
        "id": "UlR7VWzcuP-m"
      },
      "execution_count": null,
      "outputs": [
        {
          "output_type": "execute_result",
          "data": {
            "text/plain": [
              "count    466243.000000\n",
              "mean         27.045588\n",
              "std           9.636423\n",
              "min          23.000000\n",
              "25%          23.000000\n",
              "50%          23.000000\n",
              "75%          25.000000\n",
              "max         127.000000\n",
              "Name: mths_since_last_credit_pull_d, dtype: float64"
            ]
          },
          "metadata": {},
          "execution_count": 59
        }
      ]
    },
    {
      "cell_type": "code",
      "source": [
        "data.drop(['last_credit_pull_d', 'last_credit_pull_d_date'], axis=1, inplace=True)"
      ],
      "metadata": {
        "id": "WmRBOs8yuP-n"
      },
      "execution_count": null,
      "outputs": []
    },
    {
      "cell_type": "markdown",
      "source": [
        "# Exploratory Data Analysis"
      ],
      "metadata": {
        "id": "akW9NiuDub9n"
      }
    },
    {
      "cell_type": "markdown",
      "source": [
        "## Correlation Check"
      ],
      "metadata": {
        "id": "mFz8budcunJw"
      }
    },
    {
      "cell_type": "code",
      "source": [
        "plt.figure(figsize=(20,20))\n",
        "sns.heatmap(data.corr())"
      ],
      "metadata": {
        "colab": {
          "base_uri": "https://localhost:8080/",
          "height": 1000
        },
        "id": "TvoqfgFPumhZ",
        "outputId": "5d852b7f-6a0b-42b7-97c2-8cf7e4e2f588"
      },
      "execution_count": null,
      "outputs": [
        {
          "output_type": "stream",
          "name": "stderr",
          "text": [
            "<ipython-input-64-8966bf0b663b>:2: FutureWarning: The default value of numeric_only in DataFrame.corr is deprecated. In a future version, it will default to False. Select only valid columns or specify the value of numeric_only to silence this warning.\n",
            "  sns.heatmap(data.corr())\n"
          ]
        },
        {
          "output_type": "execute_result",
          "data": {
            "text/plain": [
              "<Axes: >"
            ]
          },
          "metadata": {},
          "execution_count": 64
        },
        {
          "output_type": "display_data",
          "data": {
            "text/plain": [
              "<Figure size 2000x2000 with 2 Axes>"
            ],
            "image/png": "[encoded data removed]"
          },
          "metadata": {}
        }
      ]
    },
    {
      "cell_type": "markdown",
      "source": [
        "Disini saya memakai 0.7 sebagai nilai patokan umum untuk nilai nilai korelasi tinggi yang tidak pasti"
      ],
      "metadata": {
        "id": "BJiaQExovHDY"
      }
    },
    {
      "cell_type": "code",
      "source": [
        "corr_matrix = data.corr().abs()\n",
        "upper = corr_matrix.where(np.triu(np.ones(corr_matrix.shape), k=1).astype(np.bool))\n",
        "to_drop_hicorr = [column for column in upper.columns if any(upper[column] > 0.7)]"
      ],
      "metadata": {
        "colab": {
          "base_uri": "https://localhost:8080/"
        },
        "id": "7u_mOC3tu6aZ",
        "outputId": "79c22480-f6ea-4e4e-86ce-947e2d90db27"
      },
      "execution_count": null,
      "outputs": [
        {
          "output_type": "stream",
          "name": "stderr",
          "text": [
            "<ipython-input-65-b958f315e56a>:1: FutureWarning: The default value of numeric_only in DataFrame.corr is deprecated. In a future version, it will default to False. Select only valid columns or specify the value of numeric_only to silence this warning.\n",
            "  corr_matrix = data.corr().abs()\n",
            "<ipython-input-65-b958f315e56a>:2: DeprecationWarning: `np.bool` is a deprecated alias for the builtin `bool`. To silence this warning, use `bool` by itself. Doing this will not modify any behavior and is safe. If you specifically wanted the numpy scalar type, use `np.bool_` here.\n",
            "Deprecated in NumPy 1.20; for more details and guidance: https://numpy.org/devdocs/release/1.20.0-notes.html#deprecations\n",
            "  upper = corr_matrix.where(np.triu(np.ones(corr_matrix.shape), k=1).astype(np.bool))\n"
          ]
        }
      ]
    },
    {
      "cell_type": "code",
      "source": [
        "to_drop_hicorr"
      ],
      "metadata": {
        "colab": {
          "base_uri": "https://localhost:8080/"
        },
        "id": "TohWiYZ2u7-_",
        "outputId": "413cd5e7-0a8b-4f4d-fe64-e923e1a04ae5"
      },
      "execution_count": null,
      "outputs": [
        {
          "output_type": "execute_result",
          "data": {
            "text/plain": [
              "['funded_amnt',\n",
              " 'funded_amnt_inv',\n",
              " 'installment',\n",
              " 'out_prncp_inv',\n",
              " 'total_pymnt',\n",
              " 'total_pymnt_inv',\n",
              " 'total_rec_prncp',\n",
              " 'total_rec_int',\n",
              " 'collection_recovery_fee',\n",
              " 'last_pymnt_amnt',\n",
              " 'mths_since_last_major_derog',\n",
              " 'total_rev_hi_lim',\n",
              " 'mths_since_last_pymnt_d',\n",
              " 'mths_since_next_pymnt_d',\n",
              " 'mths_since_last_credit_pull_d']"
            ]
          },
          "metadata": {},
          "execution_count": 66
        }
      ]
    },
    {
      "cell_type": "code",
      "source": [
        "data.drop(to_drop_hicorr, axis=1, inplace=True)"
      ],
      "metadata": {
        "id": "BSU7_pqJu-NL"
      },
      "execution_count": null,
      "outputs": []
    },
    {
      "cell_type": "markdown",
      "source": [
        "## Check Categorical Features"
      ],
      "metadata": {
        "id": "7sVdKcWMvUve"
      }
    },
    {
      "cell_type": "code",
      "source": [
        "data.select_dtypes(include='object').nunique()"
      ],
      "metadata": {
        "colab": {
          "base_uri": "https://localhost:8080/"
        },
        "id": "0oD75Ok7vZcg",
        "outputId": "68068382-bc24-41c9-f428-39163652a5c1"
      },
      "execution_count": null,
      "outputs": [
        {
          "output_type": "execute_result",
          "data": {
            "text/plain": [
              "grade                       7\n",
              "emp_title              205475\n",
              "home_ownership              6\n",
              "verification_status         3\n",
              "pymnt_plan                  2\n",
              "purpose                    14\n",
              "title                   63099\n",
              "addr_state                 50\n",
              "initial_list_status         2\n",
              "application_type            1\n",
              "dtype: int64"
            ]
          },
          "metadata": {},
          "execution_count": 68
        }
      ]
    },
    {
      "cell_type": "markdown",
      "source": [
        " Disini dilakukan pembuangan fitur yang memiliki nilai unik yang sangat tinggi (high cardinality) dan fitur yang hanya memiliki satu nilai unik saja."
      ],
      "metadata": {
        "id": "r5KYCKrRvsoX"
      }
    },
    {
      "cell_type": "code",
      "source": [
        "data.drop(['emp_title', 'title', 'application_type'], axis=1, inplace=True)"
      ],
      "metadata": {
        "id": "Gt9godcOvbCs"
      },
      "execution_count": null,
      "outputs": []
    },
    {
      "cell_type": "code",
      "source": [
        "data.select_dtypes(exclude='object').nunique()"
      ],
      "metadata": {
        "colab": {
          "base_uri": "https://localhost:8080/"
        },
        "id": "aV9NRgzQvcRM",
        "outputId": "1af9f472-45bc-4271-f93d-091e54521edc"
      },
      "execution_count": null,
      "outputs": [
        {
          "output_type": "execute_result",
          "data": {
            "text/plain": [
              "Unnamed: 0                     466285\n",
              "loan_amnt                        1352\n",
              "int_rate                          506\n",
              "annual_inc                      31901\n",
              "dti                              3997\n",
              "delinq_2yrs                        24\n",
              "inq_last_6mths                     28\n",
              "mths_since_last_delinq            145\n",
              "mths_since_last_record            123\n",
              "open_acc                           62\n",
              "pub_rec                            26\n",
              "revol_bal                       58142\n",
              "revol_util                       1269\n",
              "total_acc                         112\n",
              "out_prncp                      135665\n",
              "total_rec_late_fee               5808\n",
              "recoveries                      22773\n",
              "collections_12_mths_ex_med          9\n",
              "policy_code                         1\n",
              "acc_now_delinq                      6\n",
              "tot_coll_amt                     6321\n",
              "tot_cur_bal                    220690\n",
              "bad_flag                            2\n",
              "emp_length_int                     11\n",
              "term_int                            2\n",
              "mths_since_earliest_cr_line       515\n",
              "mths_since_issue_d                 91\n",
              "dtype: int64"
            ]
          },
          "metadata": {},
          "execution_count": 70
        }
      ]
    },
    {
      "cell_type": "markdown",
      "source": [
        "Disitu juga terdapat tipe data selain object juga terdapat fitur yang hanya memiliki satu nilai unik saja, maka akan ikut dibuang juga."
      ],
      "metadata": {
        "id": "g14u_E6-vx8I"
      }
    },
    {
      "cell_type": "code",
      "source": [
        "data.drop(['policy_code'], axis=1, inplace=True)"
      ],
      "metadata": {
        "id": "teLt7eIqvd5r"
      },
      "execution_count": null,
      "outputs": []
    },
    {
      "cell_type": "code",
      "source": [
        "for col in data.select_dtypes(include='object').columns.tolist():\n",
        "    print(data[col].value_counts(normalize=True)*100)\n",
        "    print('\\n')"
      ],
      "metadata": {
        "colab": {
          "base_uri": "https://localhost:8080/"
        },
        "id": "j3j-o6oavgZd",
        "outputId": "eb0a23b0-68b3-4ae6-e367-275b5373a374"
      },
      "execution_count": null,
      "outputs": [
        {
          "output_type": "stream",
          "name": "stdout",
          "text": [
            "B    29.365946\n",
            "C    26.870476\n",
            "D    16.489486\n",
            "A    16.056060\n",
            "E     7.668486\n",
            "F     2.837106\n",
            "G     0.712440\n",
            "Name: grade, dtype: float64\n",
            "\n",
            "\n",
            "MORTGAGE    50.586015\n",
            "RENT        40.420129\n",
            "OWN          8.943886\n",
            "OTHER        0.039032\n",
            "NONE         0.010723\n",
            "ANY          0.000214\n",
            "Name: home_ownership, dtype: float64\n",
            "\n",
            "\n",
            "Verified           36.041262\n",
            "Source Verified    32.167666\n",
            "Not Verified       31.791072\n",
            "Name: verification_status, dtype: float64\n",
            "\n",
            "\n",
            "n    99.99807\n",
            "y     0.00193\n",
            "Name: pymnt_plan, dtype: float64\n",
            "\n",
            "\n",
            "debt_consolidation    58.804165\n",
            "credit_card           22.337626\n",
            "home_improvement       5.691155\n",
            "other                  5.080584\n",
            "major_purchase         2.107724\n",
            "small_business         1.504016\n",
            "car                    1.157447\n",
            "medical                0.986950\n",
            "moving                 0.642097\n",
            "vacation               0.533365\n",
            "wedding                0.502482\n",
            "house                  0.486612\n",
            "educational            0.090503\n",
            "renewable_energy       0.075276\n",
            "Name: purpose, dtype: float64\n",
            "\n",
            "\n",
            "CA    15.323247\n",
            "NY     8.630344\n",
            "TX     7.814748\n",
            "FL     6.784906\n",
            "IL     3.991550\n",
            "NJ     3.873382\n",
            "PA     3.522309\n",
            "OH     3.267744\n",
            "GA     3.211555\n",
            "VA     3.050066\n",
            "NC     2.719796\n",
            "MI     2.476811\n",
            "MA     2.374513\n",
            "MD     2.353496\n",
            "AZ     2.297307\n",
            "WA     2.255488\n",
            "CO     2.088637\n",
            "MN     1.749574\n",
            "MO     1.610174\n",
            "CT     1.544978\n",
            "IN     1.399359\n",
            "NV     1.398072\n",
            "TN     1.283335\n",
            "OR     1.275829\n",
            "WI     1.267680\n",
            "AL     1.255241\n",
            "SC     1.197336\n",
            "LA     1.177177\n",
            "KY     0.951778\n",
            "KS     0.898592\n",
            "OK     0.882936\n",
            "AR     0.748040\n",
            "UT     0.735173\n",
            "NM     0.555025\n",
            "HI     0.533365\n",
            "WV     0.517280\n",
            "NH     0.478677\n",
            "RI     0.439645\n",
            "DC     0.305822\n",
            "MT     0.299388\n",
            "DE     0.272795\n",
            "AK     0.268291\n",
            "MS     0.262929\n",
            "WY     0.241912\n",
            "SD     0.210172\n",
            "VT     0.194087\n",
            "IA     0.003002\n",
            "NE     0.003002\n",
            "ID     0.002574\n",
            "ME     0.000858\n",
            "Name: addr_state, dtype: float64\n",
            "\n",
            "\n",
            "f    64.982789\n",
            "w    35.017211\n",
            "Name: initial_list_status, dtype: float64\n",
            "\n",
            "\n"
          ]
        }
      ]
    },
    {
      "cell_type": "code",
      "source": [
        "data.drop('pymnt_plan', axis=1, inplace=True)"
      ],
      "metadata": {
        "id": "wxwOFhm0vg-b"
      },
      "execution_count": null,
      "outputs": []
    },
    {
      "cell_type": "markdown",
      "source": [
        "# Missing Value"
      ],
      "metadata": {
        "id": "aVw2z9Pfv52t"
      }
    },
    {
      "cell_type": "markdown",
      "source": [
        "## Checking"
      ],
      "metadata": {
        "id": "SDIvoGBdv9VW"
      }
    },
    {
      "cell_type": "code",
      "source": [
        "check_missing = data.isnull().sum() * 100 / data.shape[0]\n",
        "check_missing[check_missing > 0].sort_values(ascending=False)"
      ],
      "metadata": {
        "colab": {
          "base_uri": "https://localhost:8080/"
        },
        "id": "YE_iS111viEF",
        "outputId": "1094648d-9832-4559-9574-f535dd656677"
      },
      "execution_count": null,
      "outputs": [
        {
          "output_type": "execute_result",
          "data": {
            "text/plain": [
              "mths_since_last_record         86.566585\n",
              "mths_since_last_delinq         53.690554\n",
              "tot_coll_amt                   15.071469\n",
              "tot_cur_bal                    15.071469\n",
              "emp_length_int                  4.505399\n",
              "revol_util                      0.072917\n",
              "collections_12_mths_ex_med      0.031097\n",
              "delinq_2yrs                     0.006219\n",
              "inq_last_6mths                  0.006219\n",
              "open_acc                        0.006219\n",
              "pub_rec                         0.006219\n",
              "total_acc                       0.006219\n",
              "acc_now_delinq                  0.006219\n",
              "mths_since_earliest_cr_line     0.006219\n",
              "annual_inc                      0.000858\n",
              "dtype: float64"
            ]
          },
          "metadata": {},
          "execution_count": 74
        }
      ]
    },
    {
      "cell_type": "markdown",
      "source": [
        "Kolom dengan missing value diatas 75% dibuang"
      ],
      "metadata": {
        "id": "qIM2dQxuwKdd"
      }
    },
    {
      "cell_type": "code",
      "source": [
        "data.drop('mths_since_last_record', axis=1, inplace=True)"
      ],
      "metadata": {
        "id": "boQ97f24wCj8"
      },
      "execution_count": null,
      "outputs": []
    },
    {
      "cell_type": "markdown",
      "source": [
        "## Flling"
      ],
      "metadata": {
        "id": "0Xt-vPEbwPO5"
      }
    },
    {
      "cell_type": "code",
      "source": [
        "data['annual_inc'].fillna(data['annual_inc'].mean(), inplace=True)\n",
        "data['mths_since_earliest_cr_line'].fillna(0, inplace=True)\n",
        "data['acc_now_delinq'].fillna(0, inplace=True)\n",
        "data['total_acc'].fillna(0, inplace=True)\n",
        "data['pub_rec'].fillna(0, inplace=True)\n",
        "data['open_acc'].fillna(0, inplace=True)\n",
        "data['inq_last_6mths'].fillna(0, inplace=True)\n",
        "data['delinq_2yrs'].fillna(0, inplace=True)\n",
        "data['collections_12_mths_ex_med'].fillna(0, inplace=True)\n",
        "data['revol_util'].fillna(0, inplace=True)\n",
        "data['emp_length_int'].fillna(0, inplace=True)\n",
        "data['tot_cur_bal'].fillna(0, inplace=True)\n",
        "data['tot_coll_amt'].fillna(0, inplace=True)\n",
        "data['mths_since_last_delinq'].fillna(-1, inplace=True)"
      ],
      "metadata": {
        "id": "-uhChFiiwMmi"
      },
      "execution_count": null,
      "outputs": []
    },
    {
      "cell_type": "markdown",
      "source": [
        "# Feature Scalling & Transformation"
      ],
      "metadata": {
        "id": "zCk03SqRwWsR"
      }
    },
    {
      "cell_type": "markdown",
      "source": [
        "## One Hot Encoding"
      ],
      "metadata": {
        "id": "f6O_DcYNwcKf"
      }
    },
    {
      "cell_type": "code",
      "source": [
        "categorical_cols = [col for col in data.select_dtypes(include='object').columns.tolist()]"
      ],
      "metadata": {
        "id": "_g9LvMhtwe08"
      },
      "execution_count": null,
      "outputs": []
    },
    {
      "cell_type": "code",
      "source": [
        "onehot = pd.get_dummies(data[categorical_cols], drop_first=True)"
      ],
      "metadata": {
        "id": "nT4kxy-Lwg3C"
      },
      "execution_count": null,
      "outputs": []
    },
    {
      "cell_type": "code",
      "source": [
        "onehot.head()"
      ],
      "metadata": {
        "colab": {
          "base_uri": "https://localhost:8080/",
          "height": 256
        },
        "id": "K5ry06kowiWv",
        "outputId": "c19e20a4-28e2-41d1-ea59-bbe3cc342ac9"
      },
      "execution_count": null,
      "outputs": [
        {
          "output_type": "execute_result",
          "data": {
            "text/plain": [
              "   grade_B  grade_C  grade_D  grade_E  grade_F  grade_G  \\\n",
              "0        1        0        0        0        0        0   \n",
              "1        0        1        0        0        0        0   \n",
              "2        0        1        0        0        0        0   \n",
              "3        0        1        0        0        0        0   \n",
              "4        1        0        0        0        0        0   \n",
              "\n",
              "   home_ownership_MORTGAGE  home_ownership_NONE  home_ownership_OTHER  \\\n",
              "0                        0                    0                     0   \n",
              "1                        0                    0                     0   \n",
              "2                        0                    0                     0   \n",
              "3                        0                    0                     0   \n",
              "4                        0                    0                     0   \n",
              "\n",
              "   home_ownership_OWN  ...  addr_state_TN  addr_state_TX  addr_state_UT  \\\n",
              "0                   0  ...              0              0              0   \n",
              "1                   0  ...              0              0              0   \n",
              "2                   0  ...              0              0              0   \n",
              "3                   0  ...              0              0              0   \n",
              "4                   0  ...              0              0              0   \n",
              "\n",
              "   addr_state_VA  addr_state_VT  addr_state_WA  addr_state_WI  addr_state_WV  \\\n",
              "0              0              0              0              0              0   \n",
              "1              0              0              0              0              0   \n",
              "2              0              0              0              0              0   \n",
              "3              0              0              0              0              0   \n",
              "4              0              0              0              0              0   \n",
              "\n",
              "   addr_state_WY  initial_list_status_w  \n",
              "0              0                      0  \n",
              "1              0                      0  \n",
              "2              0                      0  \n",
              "3              0                      0  \n",
              "4              0                      0  \n",
              "\n",
              "[5 rows x 76 columns]"
            ],
            "text/html": [
              "\n",
              "  <div id=\"df-16164112-8c98-4b55-928e-cd2a245c0bb7\" class=\"colab-df-container\">\n",
              "    <div>\n",
              "<style scoped>\n",
              "    .dataframe tbody tr th:only-of-type {\n",
              "        vertical-align: middle;\n",
              "    }\n",
              "\n",
              "    .dataframe tbody tr th {\n",
              "        vertical-align: top;\n",
              "    }\n",
              "\n",
              "    .dataframe thead th {\n",
              "        text-align: right;\n",
              "    }\n",
              "</style>\n",
              "<table border=\"1\" class=\"dataframe\">\n",
              "  <thead>\n",
              "    <tr style=\"text-align: right;\">\n",
              "      <th></th>\n",
              "      <th>grade_B</th>\n",
              "      <th>grade_C</th>\n",
              "      <th>grade_D</th>\n",
              "      <th>grade_E</th>\n",
              "      <th>grade_F</th>\n",
              "      <th>grade_G</th>\n",
              "      <th>home_ownership_MORTGAGE</th>\n",
              "      <th>home_ownership_NONE</th>\n",
              "      <th>home_ownership_OTHER</th>\n",
              "      <th>home_ownership_OWN</th>\n",
              "      <th>...</th>\n",
              "      <th>addr_state_TN</th>\n",
              "      <th>addr_state_TX</th>\n",
              "      <th>addr_state_UT</th>\n",
              "      <th>addr_state_VA</th>\n",
              "      <th>addr_state_VT</th>\n",
              "      <th>addr_state_WA</th>\n",
              "      <th>addr_state_WI</th>\n",
              "      <th>addr_state_WV</th>\n",
              "      <th>addr_state_WY</th>\n",
              "      <th>initial_list_status_w</th>\n",
              "    </tr>\n",
              "  </thead>\n",
              "  <tbody>\n",
              "    <tr>\n",
              "      <th>0</th>\n",
              "      <td>1</td>\n",
              "      <td>0</td>\n",
              "      <td>0</td>\n",
              "      <td>0</td>\n",
              "      <td>0</td>\n",
              "      <td>0</td>\n",
              "      <td>0</td>\n",
              "      <td>0</td>\n",
              "      <td>0</td>\n",
              "      <td>0</td>\n",
              "      <td>...</td>\n",
              "      <td>0</td>\n",
              "      <td>0</td>\n",
              "      <td>0</td>\n",
              "      <td>0</td>\n",
              "      <td>0</td>\n",
              "      <td>0</td>\n",
              "      <td>0</td>\n",
              "      <td>0</td>\n",
              "      <td>0</td>\n",
              "      <td>0</td>\n",
              "    </tr>\n",
              "    <tr>\n",
              "      <th>1</th>\n",
              "      <td>0</td>\n",
              "      <td>1</td>\n",
              "      <td>0</td>\n",
              "      <td>0</td>\n",
              "      <td>0</td>\n",
              "      <td>0</td>\n",
              "      <td>0</td>\n",
              "      <td>0</td>\n",
              "      <td>0</td>\n",
              "      <td>0</td>\n",
              "      <td>...</td>\n",
              "      <td>0</td>\n",
              "      <td>0</td>\n",
              "      <td>0</td>\n",
              "      <td>0</td>\n",
              "      <td>0</td>\n",
              "      <td>0</td>\n",
              "      <td>0</td>\n",
              "      <td>0</td>\n",
              "      <td>0</td>\n",
              "      <td>0</td>\n",
              "    </tr>\n",
              "    <tr>\n",
              "      <th>2</th>\n",
              "      <td>0</td>\n",
              "      <td>1</td>\n",
              "      <td>0</td>\n",
              "      <td>0</td>\n",
              "      <td>0</td>\n",
              "      <td>0</td>\n",
              "      <td>0</td>\n",
              "      <td>0</td>\n",
              "      <td>0</td>\n",
              "      <td>0</td>\n",
              "      <td>...</td>\n",
              "      <td>0</td>\n",
              "      <td>0</td>\n",
              "      <td>0</td>\n",
              "      <td>0</td>\n",
              "      <td>0</td>\n",
              "      <td>0</td>\n",
              "      <td>0</td>\n",
              "      <td>0</td>\n",
              "      <td>0</td>\n",
              "      <td>0</td>\n",
              "    </tr>\n",
              "    <tr>\n",
              "      <th>3</th>\n",
              "      <td>0</td>\n",
              "      <td>1</td>\n",
              "      <td>0</td>\n",
              "      <td>0</td>\n",
              "      <td>0</td>\n",
              "      <td>0</td>\n",
              "      <td>0</td>\n",
              "      <td>0</td>\n",
              "      <td>0</td>\n",
              "      <td>0</td>\n",
              "      <td>...</td>\n",
              "      <td>0</td>\n",
              "      <td>0</td>\n",
              "      <td>0</td>\n",
              "      <td>0</td>\n",
              "      <td>0</td>\n",
              "      <td>0</td>\n",
              "      <td>0</td>\n",
              "      <td>0</td>\n",
              "      <td>0</td>\n",
              "      <td>0</td>\n",
              "    </tr>\n",
              "    <tr>\n",
              "      <th>4</th>\n",
              "      <td>1</td>\n",
              "      <td>0</td>\n",
              "      <td>0</td>\n",
              "      <td>0</td>\n",
              "      <td>0</td>\n",
              "      <td>0</td>\n",
              "      <td>0</td>\n",
              "      <td>0</td>\n",
              "      <td>0</td>\n",
              "      <td>0</td>\n",
              "      <td>...</td>\n",
              "      <td>0</td>\n",
              "      <td>0</td>\n",
              "      <td>0</td>\n",
              "      <td>0</td>\n",
              "      <td>0</td>\n",
              "      <td>0</td>\n",
              "      <td>0</td>\n",
              "      <td>0</td>\n",
              "      <td>0</td>\n",
              "      <td>0</td>\n",
              "    </tr>\n",
              "  </tbody>\n",
              "</table>\n",
              "<p>5 rows × 76 columns</p>\n",
              "</div>\n",
              "    <div class=\"colab-df-buttons\">\n",
              "\n",
              "  <div class=\"colab-df-container\">\n",
              "    <button class=\"colab-df-convert\" onclick=\"convertToInteractive('df-16164112-8c98-4b55-928e-cd2a245c0bb7')\"\n",
              "            title=\"Convert this dataframe to an interactive table.\"\n",
              "            style=\"display:none;\">\n",
              "\n",
              "  <svg xmlns=\"http://www.w3.org/2000/svg\" height=\"24px\" viewBox=\"0 -960 960 960\">\n",
              "    <path d=\"M120-120v-720h720v720H120Zm60-500h600v-160H180v160Zm220 220h160v-160H400v160Zm0 220h160v-160H400v160ZM180-400h160v-160H180v160Zm440 0h160v-160H620v160ZM180-180h160v-160H180v160Zm440 0h160v-160H620v160Z\"/>\n",
              "  </svg>\n",
              "    </button>\n",
              "\n",
              "  <style>\n",
              "    .colab-df-container {\n",
              "      display:flex;\n",
              "      gap: 12px;\n",
              "    }\n",
              "\n",
              "    .colab-df-convert {\n",
              "      background-color: #E8F0FE;\n",
              "      border: none;\n",
              "      border-radius: 50%;\n",
              "      cursor: pointer;\n",
              "      display: none;\n",
              "      fill: #1967D2;\n",
              "      height: 32px;\n",
              "      padding: 0 0 0 0;\n",
              "      width: 32px;\n",
              "    }\n",
              "\n",
              "    .colab-df-convert:hover {\n",
              "      background-color: #E2EBFA;\n",
              "      box-shadow: 0px 1px 2px rgba(60, 64, 67, 0.3), 0px 1px 3px 1px rgba(60, 64, 67, 0.15);\n",
              "      fill: #174EA6;\n",
              "    }\n",
              "\n",
              "    .colab-df-buttons div {\n",
              "      margin-bottom: 4px;\n",
              "    }\n",
              "\n",
              "    [theme=dark] .colab-df-convert {\n",
              "      background-color: #3B4455;\n",
              "      fill: #D2E3FC;\n",
              "    }\n",
              "\n",
              "    [theme=dark] .colab-df-convert:hover {\n",
              "      background-color: #434B5C;\n",
              "      box-shadow: 0px 1px 3px 1px rgba(0, 0, 0, 0.15);\n",
              "      filter: drop-shadow(0px 1px 2px rgba(0, 0, 0, 0.3));\n",
              "      fill: #FFFFFF;\n",
              "    }\n",
              "  </style>\n",
              "\n",
              "    <script>\n",
              "      const buttonEl =\n",
              "        document.querySelector('#df-16164112-8c98-4b55-928e-cd2a245c0bb7 button.colab-df-convert');\n",
              "      buttonEl.style.display =\n",
              "        google.colab.kernel.accessAllowed ? 'block' : 'none';\n",
              "\n",
              "      async function convertToInteractive(key) {\n",
              "        const element = document.querySelector('#df-16164112-8c98-4b55-928e-cd2a245c0bb7');\n",
              "        const dataTable =\n",
              "          await google.colab.kernel.invokeFunction('convertToInteractive',\n",
              "                                                    [key], {});\n",
              "        if (!dataTable) return;\n",
              "\n",
              "        const docLinkHtml = 'Like what you see? Visit the ' +\n",
              "          '<a target=\"_blank\" href=https://colab.research.google.com/notebooks/data_table.ipynb>data table notebook</a>'\n",
              "          + ' to learn more about interactive tables.';\n",
              "        element.innerHTML = '';\n",
              "        dataTable['output_type'] = 'display_data';\n",
              "        await google.colab.output.renderOutput(dataTable, element);\n",
              "        const docLink = document.createElement('div');\n",
              "        docLink.innerHTML = docLinkHtml;\n",
              "        element.appendChild(docLink);\n",
              "      }\n",
              "    </script>\n",
              "  </div>\n",
              "\n",
              "\n",
              "<div id=\"df-41856df0-930a-462f-9dbc-cc0e3e9b91e0\">\n",
              "  <button class=\"colab-df-quickchart\" onclick=\"quickchart('df-41856df0-930a-462f-9dbc-cc0e3e9b91e0')\"\n",
              "            title=\"Suggest charts\"\n",
              "            style=\"display:none;\">\n",
              "\n",
              "<svg xmlns=\"http://www.w3.org/2000/svg\" height=\"24px\"viewBox=\"0 0 24 24\"\n",
              "     width=\"24px\">\n",
              "    <g>\n",
              "        <path d=\"M19 3H5c-1.1 0-2 .9-2 2v14c0 1.1.9 2 2 2h14c1.1 0 2-.9 2-2V5c0-1.1-.9-2-2-2zM9 17H7v-7h2v7zm4 0h-2V7h2v10zm4 0h-2v-4h2v4z\"/>\n",
              "    </g>\n",
              "</svg>\n",
              "  </button>\n",
              "\n",
              "<style>\n",
              "  .colab-df-quickchart {\n",
              "      --bg-color: #E8F0FE;\n",
              "      --fill-color: #1967D2;\n",
              "      --hover-bg-color: #E2EBFA;\n",
              "      --hover-fill-color: #174EA6;\n",
              "      --disabled-fill-color: #AAA;\n",
              "      --disabled-bg-color: #DDD;\n",
              "  }\n",
              "\n",
              "  [theme=dark] .colab-df-quickchart {\n",
              "      --bg-color: #3B4455;\n",
              "      --fill-color: #D2E3FC;\n",
              "      --hover-bg-color: #434B5C;\n",
              "      --hover-fill-color: #FFFFFF;\n",
              "      --disabled-bg-color: #3B4455;\n",
              "      --disabled-fill-color: #666;\n",
              "  }\n",
              "\n",
              "  .colab-df-quickchart {\n",
              "    background-color: var(--bg-color);\n",
              "    border: none;\n",
              "    border-radius: 50%;\n",
              "    cursor: pointer;\n",
              "    display: none;\n",
              "    fill: var(--fill-color);\n",
              "    height: 32px;\n",
              "    padding: 0;\n",
              "    width: 32px;\n",
              "  }\n",
              "\n",
              "  .colab-df-quickchart:hover {\n",
              "    background-color: var(--hover-bg-color);\n",
              "    box-shadow: 0 1px 2px rgba(60, 64, 67, 0.3), 0 1px 3px 1px rgba(60, 64, 67, 0.15);\n",
              "    fill: var(--button-hover-fill-color);\n",
              "  }\n",
              "\n",
              "  .colab-df-quickchart-complete:disabled,\n",
              "  .colab-df-quickchart-complete:disabled:hover {\n",
              "    background-color: var(--disabled-bg-color);\n",
              "    fill: var(--disabled-fill-color);\n",
              "    box-shadow: none;\n",
              "  }\n",
              "\n",
              "  .colab-df-spinner {\n",
              "    border: 2px solid var(--fill-color);\n",
              "    border-color: transparent;\n",
              "    border-bottom-color: var(--fill-color);\n",
              "    animation:\n",
              "      spin 1s steps(1) infinite;\n",
              "  }\n",
              "\n",
              "  @keyframes spin {\n",
              "    0% {\n",
              "      border-color: transparent;\n",
              "      border-bottom-color: var(--fill-color);\n",
              "      border-left-color: var(--fill-color);\n",
              "    }\n",
              "    20% {\n",
              "      border-color: transparent;\n",
              "      border-left-color: var(--fill-color);\n",
              "      border-top-color: var(--fill-color);\n",
              "    }\n",
              "    30% {\n",
              "      border-color: transparent;\n",
              "      border-left-color: var(--fill-color);\n",
              "      border-top-color: var(--fill-color);\n",
              "      border-right-color: var(--fill-color);\n",
              "    }\n",
              "    40% {\n",
              "      border-color: transparent;\n",
              "      border-right-color: var(--fill-color);\n",
              "      border-top-color: var(--fill-color);\n",
              "    }\n",
              "    60% {\n",
              "      border-color: transparent;\n",
              "      border-right-color: var(--fill-color);\n",
              "    }\n",
              "    80% {\n",
              "      border-color: transparent;\n",
              "      border-right-color: var(--fill-color);\n",
              "      border-bottom-color: var(--fill-color);\n",
              "    }\n",
              "    90% {\n",
              "      border-color: transparent;\n",
              "      border-bottom-color: var(--fill-color);\n",
              "    }\n",
              "  }\n",
              "</style>\n",
              "\n",
              "  <script>\n",
              "    async function quickchart(key) {\n",
              "      const quickchartButtonEl =\n",
              "        document.querySelector('#' + key + ' button');\n",
              "      quickchartButtonEl.disabled = true;  // To prevent multiple clicks.\n",
              "      quickchartButtonEl.classList.add('colab-df-spinner');\n",
              "      try {\n",
              "        const charts = await google.colab.kernel.invokeFunction(\n",
              "            'suggestCharts', [key], {});\n",
              "      } catch (error) {\n",
              "        console.error('Error during call to suggestCharts:', error);\n",
              "      }\n",
              "      quickchartButtonEl.classList.remove('colab-df-spinner');\n",
              "      quickchartButtonEl.classList.add('colab-df-quickchart-complete');\n",
              "    }\n",
              "    (() => {\n",
              "      let quickchartButtonEl =\n",
              "        document.querySelector('#df-41856df0-930a-462f-9dbc-cc0e3e9b91e0 button');\n",
              "      quickchartButtonEl.style.display =\n",
              "        google.colab.kernel.accessAllowed ? 'block' : 'none';\n",
              "    })();\n",
              "  </script>\n",
              "</div>\n",
              "    </div>\n",
              "  </div>\n"
            ]
          },
          "metadata": {},
          "execution_count": 79
        }
      ]
    },
    {
      "cell_type": "markdown",
      "source": [
        "## Standarization"
      ],
      "metadata": {
        "id": "MjyyY69uwlwB"
      }
    },
    {
      "cell_type": "code",
      "source": [
        "numerical_cols = [col for col in data.columns.tolist() if col not in categorical_cols + ['bad_flag']]"
      ],
      "metadata": {
        "id": "XWwTddfOwnnc"
      },
      "execution_count": null,
      "outputs": []
    },
    {
      "cell_type": "code",
      "source": [
        "from sklearn.preprocessing import StandardScaler\n",
        "\n",
        "ss = StandardScaler()\n",
        "std = pd.DataFrame(ss.fit_transform(data[numerical_cols]), columns=numerical_cols)"
      ],
      "metadata": {
        "id": "DPlUQ648wqfV"
      },
      "execution_count": null,
      "outputs": []
    },
    {
      "cell_type": "code",
      "source": [
        "std.head()"
      ],
      "metadata": {
        "colab": {
          "base_uri": "https://localhost:8080/",
          "height": 273
        },
        "id": "gjY0f04qwr9l",
        "outputId": "50fcb1af-6d38-4155-ec1a-8fce60b54e18"
      },
      "execution_count": null,
      "outputs": [
        {
          "output_type": "execute_result",
          "data": {
            "text/plain": [
              "   Unnamed: 0  loan_amnt  int_rate  annual_inc       dti  delinq_2yrs  \\\n",
              "0   -1.732047  -1.124392 -0.729587   -0.896551  1.328632    -0.357012   \n",
              "1   -1.732040  -1.426088  0.330634   -0.787387 -2.065791    -0.357012   \n",
              "2   -1.732032  -1.438156  0.488979   -1.110294 -1.082491    -0.357012   \n",
              "3   -1.732025  -0.521001 -0.077850   -0.438063  0.354248    -0.357012   \n",
              "4   -1.732017  -1.365749 -0.261438    0.122311  0.091865    -0.357012   \n",
              "\n",
              "   inq_last_6mths  mths_since_last_delinq  open_acc  pub_rec  ...  \\\n",
              "0        0.178920               -0.708792 -1.641166 -0.31429  ...   \n",
              "1        3.843328               -0.708792 -1.641166 -0.31429  ...   \n",
              "2        1.095022               -0.708792 -1.841641 -0.31429  ...   \n",
              "3        0.178920                0.860811 -0.237839 -0.31429  ...   \n",
              "4       -0.737182                0.991612  0.764538 -0.31429  ...   \n",
              "\n",
              "   total_rec_late_fee  recoveries  collections_12_mths_ex_med  acc_now_delinq  \\\n",
              "0           -0.123464   -0.154549                   -0.083608       -0.058307   \n",
              "1           -0.123464    0.057470                   -0.083608       -0.058307   \n",
              "2           -0.123464   -0.154549                   -0.083608       -0.058307   \n",
              "3            3.099264   -0.154549                   -0.083608       -0.058307   \n",
              "4           -0.123464   -0.154549                   -0.083608       -0.058307   \n",
              "\n",
              "   tot_coll_amt  tot_cur_bal  emp_length_int  term_int  \\\n",
              "0     -0.012089    -0.792648        1.138605 -0.616225   \n",
              "1     -0.012089    -0.792648       -1.523744  1.622784   \n",
              "2     -0.012089    -0.792648        1.138605 -0.616225   \n",
              "3     -0.012089    -0.792648        1.138605 -0.616225   \n",
              "4     -0.012089    -0.792648       -1.257509  1.622784   \n",
              "\n",
              "   mths_since_earliest_cr_line  mths_since_issue_d  \n",
              "0                     1.764941            1.446626  \n",
              "1                    -0.212426            1.446626  \n",
              "2                    -0.570896            1.446626  \n",
              "3                     0.226989            1.446626  \n",
              "4                     0.238553            1.446626  \n",
              "\n",
              "[5 rows x 24 columns]"
            ],
            "text/html": [
              "\n",
              "  <div id=\"df-009023d6-4214-45b9-acd7-3086de2edc4e\" class=\"colab-df-container\">\n",
              "    <div>\n",
              "<style scoped>\n",
              "    .dataframe tbody tr th:only-of-type {\n",
              "        vertical-align: middle;\n",
              "    }\n",
              "\n",
              "    .dataframe tbody tr th {\n",
              "        vertical-align: top;\n",
              "    }\n",
              "\n",
              "    .dataframe thead th {\n",
              "        text-align: right;\n",
              "    }\n",
              "</style>\n",
              "<table border=\"1\" class=\"dataframe\">\n",
              "  <thead>\n",
              "    <tr style=\"text-align: right;\">\n",
              "      <th></th>\n",
              "      <th>Unnamed: 0</th>\n",
              "      <th>loan_amnt</th>\n",
              "      <th>int_rate</th>\n",
              "      <th>annual_inc</th>\n",
              "      <th>dti</th>\n",
              "      <th>delinq_2yrs</th>\n",
              "      <th>inq_last_6mths</th>\n",
              "      <th>mths_since_last_delinq</th>\n",
              "      <th>open_acc</th>\n",
              "      <th>pub_rec</th>\n",
              "      <th>...</th>\n",
              "      <th>total_rec_late_fee</th>\n",
              "      <th>recoveries</th>\n",
              "      <th>collections_12_mths_ex_med</th>\n",
              "      <th>acc_now_delinq</th>\n",
              "      <th>tot_coll_amt</th>\n",
              "      <th>tot_cur_bal</th>\n",
              "      <th>emp_length_int</th>\n",
              "      <th>term_int</th>\n",
              "      <th>mths_since_earliest_cr_line</th>\n",
              "      <th>mths_since_issue_d</th>\n",
              "    </tr>\n",
              "  </thead>\n",
              "  <tbody>\n",
              "    <tr>\n",
              "      <th>0</th>\n",
              "      <td>-1.732047</td>\n",
              "      <td>-1.124392</td>\n",
              "      <td>-0.729587</td>\n",
              "      <td>-0.896551</td>\n",
              "      <td>1.328632</td>\n",
              "      <td>-0.357012</td>\n",
              "      <td>0.178920</td>\n",
              "      <td>-0.708792</td>\n",
              "      <td>-1.641166</td>\n",
              "      <td>-0.31429</td>\n",
              "      <td>...</td>\n",
              "      <td>-0.123464</td>\n",
              "      <td>-0.154549</td>\n",
              "      <td>-0.083608</td>\n",
              "      <td>-0.058307</td>\n",
              "      <td>-0.012089</td>\n",
              "      <td>-0.792648</td>\n",
              "      <td>1.138605</td>\n",
              "      <td>-0.616225</td>\n",
              "      <td>1.764941</td>\n",
              "      <td>1.446626</td>\n",
              "    </tr>\n",
              "    <tr>\n",
              "      <th>1</th>\n",
              "      <td>-1.732040</td>\n",
              "      <td>-1.426088</td>\n",
              "      <td>0.330634</td>\n",
              "      <td>-0.787387</td>\n",
              "      <td>-2.065791</td>\n",
              "      <td>-0.357012</td>\n",
              "      <td>3.843328</td>\n",
              "      <td>-0.708792</td>\n",
              "      <td>-1.641166</td>\n",
              "      <td>-0.31429</td>\n",
              "      <td>...</td>\n",
              "      <td>-0.123464</td>\n",
              "      <td>0.057470</td>\n",
              "      <td>-0.083608</td>\n",
              "      <td>-0.058307</td>\n",
              "      <td>-0.012089</td>\n",
              "      <td>-0.792648</td>\n",
              "      <td>-1.523744</td>\n",
              "      <td>1.622784</td>\n",
              "      <td>-0.212426</td>\n",
              "      <td>1.446626</td>\n",
              "    </tr>\n",
              "    <tr>\n",
              "      <th>2</th>\n",
              "      <td>-1.732032</td>\n",
              "      <td>-1.438156</td>\n",
              "      <td>0.488979</td>\n",
              "      <td>-1.110294</td>\n",
              "      <td>-1.082491</td>\n",
              "      <td>-0.357012</td>\n",
              "      <td>1.095022</td>\n",
              "      <td>-0.708792</td>\n",
              "      <td>-1.841641</td>\n",
              "      <td>-0.31429</td>\n",
              "      <td>...</td>\n",
              "      <td>-0.123464</td>\n",
              "      <td>-0.154549</td>\n",
              "      <td>-0.083608</td>\n",
              "      <td>-0.058307</td>\n",
              "      <td>-0.012089</td>\n",
              "      <td>-0.792648</td>\n",
              "      <td>1.138605</td>\n",
              "      <td>-0.616225</td>\n",
              "      <td>-0.570896</td>\n",
              "      <td>1.446626</td>\n",
              "    </tr>\n",
              "    <tr>\n",
              "      <th>3</th>\n",
              "      <td>-1.732025</td>\n",
              "      <td>-0.521001</td>\n",
              "      <td>-0.077850</td>\n",
              "      <td>-0.438063</td>\n",
              "      <td>0.354248</td>\n",
              "      <td>-0.357012</td>\n",
              "      <td>0.178920</td>\n",
              "      <td>0.860811</td>\n",
              "      <td>-0.237839</td>\n",
              "      <td>-0.31429</td>\n",
              "      <td>...</td>\n",
              "      <td>3.099264</td>\n",
              "      <td>-0.154549</td>\n",
              "      <td>-0.083608</td>\n",
              "      <td>-0.058307</td>\n",
              "      <td>-0.012089</td>\n",
              "      <td>-0.792648</td>\n",
              "      <td>1.138605</td>\n",
              "      <td>-0.616225</td>\n",
              "      <td>0.226989</td>\n",
              "      <td>1.446626</td>\n",
              "    </tr>\n",
              "    <tr>\n",
              "      <th>4</th>\n",
              "      <td>-1.732017</td>\n",
              "      <td>-1.365749</td>\n",
              "      <td>-0.261438</td>\n",
              "      <td>0.122311</td>\n",
              "      <td>0.091865</td>\n",
              "      <td>-0.357012</td>\n",
              "      <td>-0.737182</td>\n",
              "      <td>0.991612</td>\n",
              "      <td>0.764538</td>\n",
              "      <td>-0.31429</td>\n",
              "      <td>...</td>\n",
              "      <td>-0.123464</td>\n",
              "      <td>-0.154549</td>\n",
              "      <td>-0.083608</td>\n",
              "      <td>-0.058307</td>\n",
              "      <td>-0.012089</td>\n",
              "      <td>-0.792648</td>\n",
              "      <td>-1.257509</td>\n",
              "      <td>1.622784</td>\n",
              "      <td>0.238553</td>\n",
              "      <td>1.446626</td>\n",
              "    </tr>\n",
              "  </tbody>\n",
              "</table>\n",
              "<p>5 rows × 24 columns</p>\n",
              "</div>\n",
              "    <div class=\"colab-df-buttons\">\n",
              "\n",
              "  <div class=\"colab-df-container\">\n",
              "    <button class=\"colab-df-convert\" onclick=\"convertToInteractive('df-009023d6-4214-45b9-acd7-3086de2edc4e')\"\n",
              "            title=\"Convert this dataframe to an interactive table.\"\n",
              "            style=\"display:none;\">\n",
              "\n",
              "  <svg xmlns=\"http://www.w3.org/2000/svg\" height=\"24px\" viewBox=\"0 -960 960 960\">\n",
              "    <path d=\"M120-120v-720h720v720H120Zm60-500h600v-160H180v160Zm220 220h160v-160H400v160Zm0 220h160v-160H400v160ZM180-400h160v-160H180v160Zm440 0h160v-160H620v160ZM180-180h160v-160H180v160Zm440 0h160v-160H620v160Z\"/>\n",
              "  </svg>\n",
              "    </button>\n",
              "\n",
              "  <style>\n",
              "    .colab-df-container {\n",
              "      display:flex;\n",
              "      gap: 12px;\n",
              "    }\n",
              "\n",
              "    .colab-df-convert {\n",
              "      background-color: #E8F0FE;\n",
              "      border: none;\n",
              "      border-radius: 50%;\n",
              "      cursor: pointer;\n",
              "      display: none;\n",
              "      fill: #1967D2;\n",
              "      height: 32px;\n",
              "      padding: 0 0 0 0;\n",
              "      width: 32px;\n",
              "    }\n",
              "\n",
              "    .colab-df-convert:hover {\n",
              "      background-color: #E2EBFA;\n",
              "      box-shadow: 0px 1px 2px rgba(60, 64, 67, 0.3), 0px 1px 3px 1px rgba(60, 64, 67, 0.15);\n",
              "      fill: #174EA6;\n",
              "    }\n",
              "\n",
              "    .colab-df-buttons div {\n",
              "      margin-bottom: 4px;\n",
              "    }\n",
              "\n",
              "    [theme=dark] .colab-df-convert {\n",
              "      background-color: #3B4455;\n",
              "      fill: #D2E3FC;\n",
              "    }\n",
              "\n",
              "    [theme=dark] .colab-df-convert:hover {\n",
              "      background-color: #434B5C;\n",
              "      box-shadow: 0px 1px 3px 1px rgba(0, 0, 0, 0.15);\n",
              "      filter: drop-shadow(0px 1px 2px rgba(0, 0, 0, 0.3));\n",
              "      fill: #FFFFFF;\n",
              "    }\n",
              "  </style>\n",
              "\n",
              "    <script>\n",
              "      const buttonEl =\n",
              "        document.querySelector('#df-009023d6-4214-45b9-acd7-3086de2edc4e button.colab-df-convert');\n",
              "      buttonEl.style.display =\n",
              "        google.colab.kernel.accessAllowed ? 'block' : 'none';\n",
              "\n",
              "      async function convertToInteractive(key) {\n",
              "        const element = document.querySelector('#df-009023d6-4214-45b9-acd7-3086de2edc4e');\n",
              "        const dataTable =\n",
              "          await google.colab.kernel.invokeFunction('convertToInteractive',\n",
              "                                                    [key], {});\n",
              "        if (!dataTable) return;\n",
              "\n",
              "        const docLinkHtml = 'Like what you see? Visit the ' +\n",
              "          '<a target=\"_blank\" href=https://colab.research.google.com/notebooks/data_table.ipynb>data table notebook</a>'\n",
              "          + ' to learn more about interactive tables.';\n",
              "        element.innerHTML = '';\n",
              "        dataTable['output_type'] = 'display_data';\n",
              "        await google.colab.output.renderOutput(dataTable, element);\n",
              "        const docLink = document.createElement('div');\n",
              "        docLink.innerHTML = docLinkHtml;\n",
              "        element.appendChild(docLink);\n",
              "      }\n",
              "    </script>\n",
              "  </div>\n",
              "\n",
              "\n",
              "<div id=\"df-4c115b95-9e15-491b-86c8-05ad1e09b8cf\">\n",
              "  <button class=\"colab-df-quickchart\" onclick=\"quickchart('df-4c115b95-9e15-491b-86c8-05ad1e09b8cf')\"\n",
              "            title=\"Suggest charts\"\n",
              "            style=\"display:none;\">\n",
              "\n",
              "<svg xmlns=\"http://www.w3.org/2000/svg\" height=\"24px\"viewBox=\"0 0 24 24\"\n",
              "     width=\"24px\">\n",
              "    <g>\n",
              "        <path d=\"M19 3H5c-1.1 0-2 .9-2 2v14c0 1.1.9 2 2 2h14c1.1 0 2-.9 2-2V5c0-1.1-.9-2-2-2zM9 17H7v-7h2v7zm4 0h-2V7h2v10zm4 0h-2v-4h2v4z\"/>\n",
              "    </g>\n",
              "</svg>\n",
              "  </button>\n",
              "\n",
              "<style>\n",
              "  .colab-df-quickchart {\n",
              "      --bg-color: #E8F0FE;\n",
              "      --fill-color: #1967D2;\n",
              "      --hover-bg-color: #E2EBFA;\n",
              "      --hover-fill-color: #174EA6;\n",
              "      --disabled-fill-color: #AAA;\n",
              "      --disabled-bg-color: #DDD;\n",
              "  }\n",
              "\n",
              "  [theme=dark] .colab-df-quickchart {\n",
              "      --bg-color: #3B4455;\n",
              "      --fill-color: #D2E3FC;\n",
              "      --hover-bg-color: #434B5C;\n",
              "      --hover-fill-color: #FFFFFF;\n",
              "      --disabled-bg-color: #3B4455;\n",
              "      --disabled-fill-color: #666;\n",
              "  }\n",
              "\n",
              "  .colab-df-quickchart {\n",
              "    background-color: var(--bg-color);\n",
              "    border: none;\n",
              "    border-radius: 50%;\n",
              "    cursor: pointer;\n",
              "    display: none;\n",
              "    fill: var(--fill-color);\n",
              "    height: 32px;\n",
              "    padding: 0;\n",
              "    width: 32px;\n",
              "  }\n",
              "\n",
              "  .colab-df-quickchart:hover {\n",
              "    background-color: var(--hover-bg-color);\n",
              "    box-shadow: 0 1px 2px rgba(60, 64, 67, 0.3), 0 1px 3px 1px rgba(60, 64, 67, 0.15);\n",
              "    fill: var(--button-hover-fill-color);\n",
              "  }\n",
              "\n",
              "  .colab-df-quickchart-complete:disabled,\n",
              "  .colab-df-quickchart-complete:disabled:hover {\n",
              "    background-color: var(--disabled-bg-color);\n",
              "    fill: var(--disabled-fill-color);\n",
              "    box-shadow: none;\n",
              "  }\n",
              "\n",
              "  .colab-df-spinner {\n",
              "    border: 2px solid var(--fill-color);\n",
              "    border-color: transparent;\n",
              "    border-bottom-color: var(--fill-color);\n",
              "    animation:\n",
              "      spin 1s steps(1) infinite;\n",
              "  }\n",
              "\n",
              "  @keyframes spin {\n",
              "    0% {\n",
              "      border-color: transparent;\n",
              "      border-bottom-color: var(--fill-color);\n",
              "      border-left-color: var(--fill-color);\n",
              "    }\n",
              "    20% {\n",
              "      border-color: transparent;\n",
              "      border-left-color: var(--fill-color);\n",
              "      border-top-color: var(--fill-color);\n",
              "    }\n",
              "    30% {\n",
              "      border-color: transparent;\n",
              "      border-left-color: var(--fill-color);\n",
              "      border-top-color: var(--fill-color);\n",
              "      border-right-color: var(--fill-color);\n",
              "    }\n",
              "    40% {\n",
              "      border-color: transparent;\n",
              "      border-right-color: var(--fill-color);\n",
              "      border-top-color: var(--fill-color);\n",
              "    }\n",
              "    60% {\n",
              "      border-color: transparent;\n",
              "      border-right-color: var(--fill-color);\n",
              "    }\n",
              "    80% {\n",
              "      border-color: transparent;\n",
              "      border-right-color: var(--fill-color);\n",
              "      border-bottom-color: var(--fill-color);\n",
              "    }\n",
              "    90% {\n",
              "      border-color: transparent;\n",
              "      border-bottom-color: var(--fill-color);\n",
              "    }\n",
              "  }\n",
              "</style>\n",
              "\n",
              "  <script>\n",
              "    async function quickchart(key) {\n",
              "      const quickchartButtonEl =\n",
              "        document.querySelector('#' + key + ' button');\n",
              "      quickchartButtonEl.disabled = true;  // To prevent multiple clicks.\n",
              "      quickchartButtonEl.classList.add('colab-df-spinner');\n",
              "      try {\n",
              "        const charts = await google.colab.kernel.invokeFunction(\n",
              "            'suggestCharts', [key], {});\n",
              "      } catch (error) {\n",
              "        console.error('Error during call to suggestCharts:', error);\n",
              "      }\n",
              "      quickchartButtonEl.classList.remove('colab-df-spinner');\n",
              "      quickchartButtonEl.classList.add('colab-df-quickchart-complete');\n",
              "    }\n",
              "    (() => {\n",
              "      let quickchartButtonEl =\n",
              "        document.querySelector('#df-4c115b95-9e15-491b-86c8-05ad1e09b8cf button');\n",
              "      quickchartButtonEl.style.display =\n",
              "        google.colab.kernel.accessAllowed ? 'block' : 'none';\n",
              "    })();\n",
              "  </script>\n",
              "</div>\n",
              "    </div>\n",
              "  </div>\n"
            ]
          },
          "metadata": {},
          "execution_count": 82
        }
      ]
    },
    {
      "cell_type": "markdown",
      "source": [
        "## Transformed Dataframe"
      ],
      "metadata": {
        "id": "mAqLvT17xDAH"
      }
    },
    {
      "cell_type": "code",
      "source": [
        "data_model = pd.concat([onehot, std, data[['bad_flag']]], axis=1)"
      ],
      "metadata": {
        "id": "If-Te_idxKKK"
      },
      "execution_count": null,
      "outputs": []
    },
    {
      "cell_type": "markdown",
      "source": [
        "# Modelling"
      ],
      "metadata": {
        "id": "DtXq8rL9xNF4"
      }
    },
    {
      "cell_type": "markdown",
      "source": [
        "## Train-Test Split & Training"
      ],
      "metadata": {
        "id": "6NpShNSOxhem"
      }
    },
    {
      "cell_type": "code",
      "source": [
        "from sklearn.model_selection import train_test_split\n",
        "from sklearn.ensemble import RandomForestClassifier\n",
        "\n",
        "X = data_model.drop('bad_flag', axis=1)\n",
        "y = data_model['bad_flag']\n",
        "\n",
        "X_train, X_test, y_train, y_test = train_test_split(X, y, test_size=0.2, random_state=42)\n",
        "\n",
        "X_train.shape, X_test.shape\n",
        "\n",
        "rfc = RandomForestClassifier(max_depth=4)\n",
        "rfc.fit(X_train, y_train)\n",
        "\n",
        "arr_feature_importances = rfc.feature_importances_\n",
        "arr_feature_names = X_train.columns.values\n",
        "\n",
        "df_feature_importance = pd.DataFrame(index=range(len(arr_feature_importances)), columns=['feature', 'importance'])\n",
        "df_feature_importance['feature'] = arr_feature_names\n",
        "df_feature_importance['importance'] = arr_feature_importances\n",
        "df_all_features = df_feature_importance.sort_values(by='importance', ascending=False)\n",
        "df_all_features"
      ],
      "metadata": {
        "colab": {
          "base_uri": "https://localhost:8080/",
          "height": 424
        },
        "id": "AJFtGprJxUn4",
        "outputId": "f75537e5-0792-44f5-b326-c8b4d7159d19"
      },
      "execution_count": null,
      "outputs": [
        {
          "output_type": "execute_result",
          "data": {
            "text/plain": [
              "               feature  importance\n",
              "91          recoveries    0.487581\n",
              "89           out_prncp    0.196869\n",
              "78            int_rate    0.089922\n",
              "90  total_rec_late_fee    0.079819\n",
              "99  mths_since_issue_d    0.027641\n",
              "..                 ...         ...\n",
              "52       addr_state_NC    0.000000\n",
              "55       addr_state_NJ    0.000000\n",
              "68       addr_state_UT    0.000000\n",
              "72       addr_state_WI    0.000000\n",
              "50       addr_state_MS    0.000000\n",
              "\n",
              "[100 rows x 2 columns]"
            ],
            "text/html": [
              "\n",
              "  <div id=\"df-9ab58b34-5a57-40ab-8ae0-6c367539e90d\" class=\"colab-df-container\">\n",
              "    <div>\n",
              "<style scoped>\n",
              "    .dataframe tbody tr th:only-of-type {\n",
              "        vertical-align: middle;\n",
              "    }\n",
              "\n",
              "    .dataframe tbody tr th {\n",
              "        vertical-align: top;\n",
              "    }\n",
              "\n",
              "    .dataframe thead th {\n",
              "        text-align: right;\n",
              "    }\n",
              "</style>\n",
              "<table border=\"1\" class=\"dataframe\">\n",
              "  <thead>\n",
              "    <tr style=\"text-align: right;\">\n",
              "      <th></th>\n",
              "      <th>feature</th>\n",
              "      <th>importance</th>\n",
              "    </tr>\n",
              "  </thead>\n",
              "  <tbody>\n",
              "    <tr>\n",
              "      <th>91</th>\n",
              "      <td>recoveries</td>\n",
              "      <td>0.487581</td>\n",
              "    </tr>\n",
              "    <tr>\n",
              "      <th>89</th>\n",
              "      <td>out_prncp</td>\n",
              "      <td>0.196869</td>\n",
              "    </tr>\n",
              "    <tr>\n",
              "      <th>78</th>\n",
              "      <td>int_rate</td>\n",
              "      <td>0.089922</td>\n",
              "    </tr>\n",
              "    <tr>\n",
              "      <th>90</th>\n",
              "      <td>total_rec_late_fee</td>\n",
              "      <td>0.079819</td>\n",
              "    </tr>\n",
              "    <tr>\n",
              "      <th>99</th>\n",
              "      <td>mths_since_issue_d</td>\n",
              "      <td>0.027641</td>\n",
              "    </tr>\n",
              "    <tr>\n",
              "      <th>...</th>\n",
              "      <td>...</td>\n",
              "      <td>...</td>\n",
              "    </tr>\n",
              "    <tr>\n",
              "      <th>52</th>\n",
              "      <td>addr_state_NC</td>\n",
              "      <td>0.000000</td>\n",
              "    </tr>\n",
              "    <tr>\n",
              "      <th>55</th>\n",
              "      <td>addr_state_NJ</td>\n",
              "      <td>0.000000</td>\n",
              "    </tr>\n",
              "    <tr>\n",
              "      <th>68</th>\n",
              "      <td>addr_state_UT</td>\n",
              "      <td>0.000000</td>\n",
              "    </tr>\n",
              "    <tr>\n",
              "      <th>72</th>\n",
              "      <td>addr_state_WI</td>\n",
              "      <td>0.000000</td>\n",
              "    </tr>\n",
              "    <tr>\n",
              "      <th>50</th>\n",
              "      <td>addr_state_MS</td>\n",
              "      <td>0.000000</td>\n",
              "    </tr>\n",
              "  </tbody>\n",
              "</table>\n",
              "<p>100 rows × 2 columns</p>\n",
              "</div>\n",
              "    <div class=\"colab-df-buttons\">\n",
              "\n",
              "  <div class=\"colab-df-container\">\n",
              "    <button class=\"colab-df-convert\" onclick=\"convertToInteractive('df-9ab58b34-5a57-40ab-8ae0-6c367539e90d')\"\n",
              "            title=\"Convert this dataframe to an interactive table.\"\n",
              "            style=\"display:none;\">\n",
              "\n",
              "  <svg xmlns=\"http://www.w3.org/2000/svg\" height=\"24px\" viewBox=\"0 -960 960 960\">\n",
              "    <path d=\"M120-120v-720h720v720H120Zm60-500h600v-160H180v160Zm220 220h160v-160H400v160Zm0 220h160v-160H400v160ZM180-400h160v-160H180v160Zm440 0h160v-160H620v160ZM180-180h160v-160H180v160Zm440 0h160v-160H620v160Z\"/>\n",
              "  </svg>\n",
              "    </button>\n",
              "\n",
              "  <style>\n",
              "    .colab-df-container {\n",
              "      display:flex;\n",
              "      gap: 12px;\n",
              "    }\n",
              "\n",
              "    .colab-df-convert {\n",
              "      background-color: #E8F0FE;\n",
              "      border: none;\n",
              "      border-radius: 50%;\n",
              "      cursor: pointer;\n",
              "      display: none;\n",
              "      fill: #1967D2;\n",
              "      height: 32px;\n",
              "      padding: 0 0 0 0;\n",
              "      width: 32px;\n",
              "    }\n",
              "\n",
              "    .colab-df-convert:hover {\n",
              "      background-color: #E2EBFA;\n",
              "      box-shadow: 0px 1px 2px rgba(60, 64, 67, 0.3), 0px 1px 3px 1px rgba(60, 64, 67, 0.15);\n",
              "      fill: #174EA6;\n",
              "    }\n",
              "\n",
              "    .colab-df-buttons div {\n",
              "      margin-bottom: 4px;\n",
              "    }\n",
              "\n",
              "    [theme=dark] .colab-df-convert {\n",
              "      background-color: #3B4455;\n",
              "      fill: #D2E3FC;\n",
              "    }\n",
              "\n",
              "    [theme=dark] .colab-df-convert:hover {\n",
              "      background-color: #434B5C;\n",
              "      box-shadow: 0px 1px 3px 1px rgba(0, 0, 0, 0.15);\n",
              "      filter: drop-shadow(0px 1px 2px rgba(0, 0, 0, 0.3));\n",
              "      fill: #FFFFFF;\n",
              "    }\n",
              "  </style>\n",
              "\n",
              "    <script>\n",
              "      const buttonEl =\n",
              "        document.querySelector('#df-9ab58b34-5a57-40ab-8ae0-6c367539e90d button.colab-df-convert');\n",
              "      buttonEl.style.display =\n",
              "        google.colab.kernel.accessAllowed ? 'block' : 'none';\n",
              "\n",
              "      async function convertToInteractive(key) {\n",
              "        const element = document.querySelector('#df-9ab58b34-5a57-40ab-8ae0-6c367539e90d');\n",
              "        const dataTable =\n",
              "          await google.colab.kernel.invokeFunction('convertToInteractive',\n",
              "                                                    [key], {});\n",
              "        if (!dataTable) return;\n",
              "\n",
              "        const docLinkHtml = 'Like what you see? Visit the ' +\n",
              "          '<a target=\"_blank\" href=https://colab.research.google.com/notebooks/data_table.ipynb>data table notebook</a>'\n",
              "          + ' to learn more about interactive tables.';\n",
              "        element.innerHTML = '';\n",
              "        dataTable['output_type'] = 'display_data';\n",
              "        await google.colab.output.renderOutput(dataTable, element);\n",
              "        const docLink = document.createElement('div');\n",
              "        docLink.innerHTML = docLinkHtml;\n",
              "        element.appendChild(docLink);\n",
              "      }\n",
              "    </script>\n",
              "  </div>\n",
              "\n",
              "\n",
              "<div id=\"df-a8f5b034-b01a-47b6-94b3-4e487eb8040a\">\n",
              "  <button class=\"colab-df-quickchart\" onclick=\"quickchart('df-a8f5b034-b01a-47b6-94b3-4e487eb8040a')\"\n",
              "            title=\"Suggest charts\"\n",
              "            style=\"display:none;\">\n",
              "\n",
              "<svg xmlns=\"http://www.w3.org/2000/svg\" height=\"24px\"viewBox=\"0 0 24 24\"\n",
              "     width=\"24px\">\n",
              "    <g>\n",
              "        <path d=\"M19 3H5c-1.1 0-2 .9-2 2v14c0 1.1.9 2 2 2h14c1.1 0 2-.9 2-2V5c0-1.1-.9-2-2-2zM9 17H7v-7h2v7zm4 0h-2V7h2v10zm4 0h-2v-4h2v4z\"/>\n",
              "    </g>\n",
              "</svg>\n",
              "  </button>\n",
              "\n",
              "<style>\n",
              "  .colab-df-quickchart {\n",
              "      --bg-color: #E8F0FE;\n",
              "      --fill-color: #1967D2;\n",
              "      --hover-bg-color: #E2EBFA;\n",
              "      --hover-fill-color: #174EA6;\n",
              "      --disabled-fill-color: #AAA;\n",
              "      --disabled-bg-color: #DDD;\n",
              "  }\n",
              "\n",
              "  [theme=dark] .colab-df-quickchart {\n",
              "      --bg-color: #3B4455;\n",
              "      --fill-color: #D2E3FC;\n",
              "      --hover-bg-color: #434B5C;\n",
              "      --hover-fill-color: #FFFFFF;\n",
              "      --disabled-bg-color: #3B4455;\n",
              "      --disabled-fill-color: #666;\n",
              "  }\n",
              "\n",
              "  .colab-df-quickchart {\n",
              "    background-color: var(--bg-color);\n",
              "    border: none;\n",
              "    border-radius: 50%;\n",
              "    cursor: pointer;\n",
              "    display: none;\n",
              "    fill: var(--fill-color);\n",
              "    height: 32px;\n",
              "    padding: 0;\n",
              "    width: 32px;\n",
              "  }\n",
              "\n",
              "  .colab-df-quickchart:hover {\n",
              "    background-color: var(--hover-bg-color);\n",
              "    box-shadow: 0 1px 2px rgba(60, 64, 67, 0.3), 0 1px 3px 1px rgba(60, 64, 67, 0.15);\n",
              "    fill: var(--button-hover-fill-color);\n",
              "  }\n",
              "\n",
              "  .colab-df-quickchart-complete:disabled,\n",
              "  .colab-df-quickchart-complete:disabled:hover {\n",
              "    background-color: var(--disabled-bg-color);\n",
              "    fill: var(--disabled-fill-color);\n",
              "    box-shadow: none;\n",
              "  }\n",
              "\n",
              "  .colab-df-spinner {\n",
              "    border: 2px solid var(--fill-color);\n",
              "    border-color: transparent;\n",
              "    border-bottom-color: var(--fill-color);\n",
              "    animation:\n",
              "      spin 1s steps(1) infinite;\n",
              "  }\n",
              "\n",
              "  @keyframes spin {\n",
              "    0% {\n",
              "      border-color: transparent;\n",
              "      border-bottom-color: var(--fill-color);\n",
              "      border-left-color: var(--fill-color);\n",
              "    }\n",
              "    20% {\n",
              "      border-color: transparent;\n",
              "      border-left-color: var(--fill-color);\n",
              "      border-top-color: var(--fill-color);\n",
              "    }\n",
              "    30% {\n",
              "      border-color: transparent;\n",
              "      border-left-color: var(--fill-color);\n",
              "      border-top-color: var(--fill-color);\n",
              "      border-right-color: var(--fill-color);\n",
              "    }\n",
              "    40% {\n",
              "      border-color: transparent;\n",
              "      border-right-color: var(--fill-color);\n",
              "      border-top-color: var(--fill-color);\n",
              "    }\n",
              "    60% {\n",
              "      border-color: transparent;\n",
              "      border-right-color: var(--fill-color);\n",
              "    }\n",
              "    80% {\n",
              "      border-color: transparent;\n",
              "      border-right-color: var(--fill-color);\n",
              "      border-bottom-color: var(--fill-color);\n",
              "    }\n",
              "    90% {\n",
              "      border-color: transparent;\n",
              "      border-bottom-color: var(--fill-color);\n",
              "    }\n",
              "  }\n",
              "</style>\n",
              "\n",
              "  <script>\n",
              "    async function quickchart(key) {\n",
              "      const quickchartButtonEl =\n",
              "        document.querySelector('#' + key + ' button');\n",
              "      quickchartButtonEl.disabled = true;  // To prevent multiple clicks.\n",
              "      quickchartButtonEl.classList.add('colab-df-spinner');\n",
              "      try {\n",
              "        const charts = await google.colab.kernel.invokeFunction(\n",
              "            'suggestCharts', [key], {});\n",
              "      } catch (error) {\n",
              "        console.error('Error during call to suggestCharts:', error);\n",
              "      }\n",
              "      quickchartButtonEl.classList.remove('colab-df-spinner');\n",
              "      quickchartButtonEl.classList.add('colab-df-quickchart-complete');\n",
              "    }\n",
              "    (() => {\n",
              "      let quickchartButtonEl =\n",
              "        document.querySelector('#df-a8f5b034-b01a-47b6-94b3-4e487eb8040a button');\n",
              "      quickchartButtonEl.style.display =\n",
              "        google.colab.kernel.accessAllowed ? 'block' : 'none';\n",
              "    })();\n",
              "  </script>\n",
              "</div>\n",
              "    </div>\n",
              "  </div>\n"
            ]
          },
          "metadata": {},
          "execution_count": 84
        }
      ]
    },
    {
      "cell_type": "markdown",
      "source": [
        "## Validation\n",
        "Disini menggunakan 2 metrik untuk mengukur performa model yaitu AUC & KS"
      ],
      "metadata": {
        "id": "ohk3tTpHxsmD"
      }
    },
    {
      "cell_type": "code",
      "source": [
        "y_pred_proba = rfc.predict_proba(X_test)[:][:,1]\n",
        "\n",
        "df_actual_predicted = pd.concat([pd.DataFrame(np.array(y_test), columns=['y_actual']), pd.DataFrame(y_pred_proba, columns=['y_pred_proba'])], axis=1)\n",
        "df_actual_predicted.index = y_test.index"
      ],
      "metadata": {
        "id": "WibnDX_3x3HS"
      },
      "execution_count": null,
      "outputs": []
    },
    {
      "cell_type": "markdown",
      "source": [
        "### AUC"
      ],
      "metadata": {
        "id": "BLu1Q-Qxx3-d"
      }
    },
    {
      "cell_type": "code",
      "source": [
        "from sklearn.metrics import roc_curve, roc_auc_score\n",
        "\n",
        "fpr, tpr, tr = roc_curve(df_actual_predicted['y_actual'], df_actual_predicted['y_pred_proba'])\n",
        "auc = roc_auc_score(df_actual_predicted['y_actual'], df_actual_predicted['y_pred_proba'])\n",
        "\n",
        "plt.plot(fpr, tpr, label='AUC = %0.4f' %auc)\n",
        "plt.plot(fpr, fpr, linestyle = '--', color='k')\n",
        "plt.xlabel('False Positive Rate')\n",
        "plt.ylabel('True Positive Rate')\n",
        "plt.title('ROC Curve')\n",
        "plt.legend()"
      ],
      "metadata": {
        "colab": {
          "base_uri": "https://localhost:8080/",
          "height": 489
        },
        "id": "WZtGtNerx7qh",
        "outputId": "31ce8e59-5de8-45b8-d329-99c461d366ed"
      },
      "execution_count": null,
      "outputs": [
        {
          "output_type": "execute_result",
          "data": {
            "text/plain": [
              "<matplotlib.legend.Legend at 0x7b5f874ce6e0>"
            ]
          },
          "metadata": {},
          "execution_count": 87
        },
        {
          "output_type": "display_data",
          "data": {
            "text/plain": [
              "<Figure size 640x480 with 1 Axes>"
            ],
            "image/png": "[encoded data removed]"
          },
          "metadata": {}
        }
      ]
    },
    {
      "cell_type": "markdown",
      "source": [
        "### KS"
      ],
      "metadata": {
        "id": "kzdcO0nsyAeL"
      }
    },
    {
      "cell_type": "code",
      "source": [
        "df_actual_predicted = df_actual_predicted.sort_values('y_pred_proba')\n",
        "df_actual_predicted = df_actual_predicted.reset_index()\n",
        "\n",
        "df_actual_predicted['Cumulative N Population'] = df_actual_predicted.index + 1\n",
        "df_actual_predicted['Cumulative N Bad'] = df_actual_predicted['y_actual'].cumsum()\n",
        "df_actual_predicted['Cumulative N Good'] = df_actual_predicted['Cumulative N Population'] - df_actual_predicted['Cumulative N Bad']\n",
        "df_actual_predicted['Cumulative Perc Population'] = df_actual_predicted['Cumulative N Population'] / df_actual_predicted.shape[0]\n",
        "df_actual_predicted['Cumulative Perc Bad'] = df_actual_predicted['Cumulative N Bad'] / df_actual_predicted['y_actual'].sum()\n",
        "df_actual_predicted['Cumulative Perc Good'] = df_actual_predicted['Cumulative N Good'] / (df_actual_predicted.shape[0] - df_actual_predicted['y_actual'].sum())"
      ],
      "metadata": {
        "id": "G3p9OMuSyBw7"
      },
      "execution_count": null,
      "outputs": []
    },
    {
      "cell_type": "code",
      "source": [
        "df_actual_predicted.head()"
      ],
      "metadata": {
        "colab": {
          "base_uri": "https://localhost:8080/",
          "height": 206
        },
        "id": "kxUBBf2CyDxQ",
        "outputId": "2f1fe4d7-ec50-46d5-c863-409223ef6a0f"
      },
      "execution_count": null,
      "outputs": [
        {
          "output_type": "execute_result",
          "data": {
            "text/plain": [
              "    index  y_actual  y_pred_proba  Cumulative N Population  Cumulative N Bad  \\\n",
              "0  372253         0      0.040341                        1                 0   \n",
              "1  254291         0      0.040466                        2                 0   \n",
              "2  264738         0      0.040515                        3                 0   \n",
              "3  260562         0      0.040697                        4                 0   \n",
              "4  279378         0      0.040707                        5                 0   \n",
              "\n",
              "   Cumulative N Good  Cumulative Perc Population  Cumulative Perc Bad  \\\n",
              "0                  1                    0.000011                  0.0   \n",
              "1                  2                    0.000021                  0.0   \n",
              "2                  3                    0.000032                  0.0   \n",
              "3                  4                    0.000043                  0.0   \n",
              "4                  5                    0.000054                  0.0   \n",
              "\n",
              "   Cumulative Perc Good  \n",
              "0              0.000012  \n",
              "1              0.000024  \n",
              "2              0.000036  \n",
              "3              0.000048  \n",
              "4              0.000060  "
            ],
            "text/html": [
              "\n",
              "  <div id=\"df-fb29fc54-b82b-400d-9238-81153785efba\" class=\"colab-df-container\">\n",
              "    <div>\n",
              "<style scoped>\n",
              "    .dataframe tbody tr th:only-of-type {\n",
              "        vertical-align: middle;\n",
              "    }\n",
              "\n",
              "    .dataframe tbody tr th {\n",
              "        vertical-align: top;\n",
              "    }\n",
              "\n",
              "    .dataframe thead th {\n",
              "        text-align: right;\n",
              "    }\n",
              "</style>\n",
              "<table border=\"1\" class=\"dataframe\">\n",
              "  <thead>\n",
              "    <tr style=\"text-align: right;\">\n",
              "      <th></th>\n",
              "      <th>index</th>\n",
              "      <th>y_actual</th>\n",
              "      <th>y_pred_proba</th>\n",
              "      <th>Cumulative N Population</th>\n",
              "      <th>Cumulative N Bad</th>\n",
              "      <th>Cumulative N Good</th>\n",
              "      <th>Cumulative Perc Population</th>\n",
              "      <th>Cumulative Perc Bad</th>\n",
              "      <th>Cumulative Perc Good</th>\n",
              "    </tr>\n",
              "  </thead>\n",
              "  <tbody>\n",
              "    <tr>\n",
              "      <th>0</th>\n",
              "      <td>372253</td>\n",
              "      <td>0</td>\n",
              "      <td>0.040341</td>\n",
              "      <td>1</td>\n",
              "      <td>0</td>\n",
              "      <td>1</td>\n",
              "      <td>0.000011</td>\n",
              "      <td>0.0</td>\n",
              "      <td>0.000012</td>\n",
              "    </tr>\n",
              "    <tr>\n",
              "      <th>1</th>\n",
              "      <td>254291</td>\n",
              "      <td>0</td>\n",
              "      <td>0.040466</td>\n",
              "      <td>2</td>\n",
              "      <td>0</td>\n",
              "      <td>2</td>\n",
              "      <td>0.000021</td>\n",
              "      <td>0.0</td>\n",
              "      <td>0.000024</td>\n",
              "    </tr>\n",
              "    <tr>\n",
              "      <th>2</th>\n",
              "      <td>264738</td>\n",
              "      <td>0</td>\n",
              "      <td>0.040515</td>\n",
              "      <td>3</td>\n",
              "      <td>0</td>\n",
              "      <td>3</td>\n",
              "      <td>0.000032</td>\n",
              "      <td>0.0</td>\n",
              "      <td>0.000036</td>\n",
              "    </tr>\n",
              "    <tr>\n",
              "      <th>3</th>\n",
              "      <td>260562</td>\n",
              "      <td>0</td>\n",
              "      <td>0.040697</td>\n",
              "      <td>4</td>\n",
              "      <td>0</td>\n",
              "      <td>4</td>\n",
              "      <td>0.000043</td>\n",
              "      <td>0.0</td>\n",
              "      <td>0.000048</td>\n",
              "    </tr>\n",
              "    <tr>\n",
              "      <th>4</th>\n",
              "      <td>279378</td>\n",
              "      <td>0</td>\n",
              "      <td>0.040707</td>\n",
              "      <td>5</td>\n",
              "      <td>0</td>\n",
              "      <td>5</td>\n",
              "      <td>0.000054</td>\n",
              "      <td>0.0</td>\n",
              "      <td>0.000060</td>\n",
              "    </tr>\n",
              "  </tbody>\n",
              "</table>\n",
              "</div>\n",
              "    <div class=\"colab-df-buttons\">\n",
              "\n",
              "  <div class=\"colab-df-container\">\n",
              "    <button class=\"colab-df-convert\" onclick=\"convertToInteractive('df-fb29fc54-b82b-400d-9238-81153785efba')\"\n",
              "            title=\"Convert this dataframe to an interactive table.\"\n",
              "            style=\"display:none;\">\n",
              "\n",
              "  <svg xmlns=\"http://www.w3.org/2000/svg\" height=\"24px\" viewBox=\"0 -960 960 960\">\n",
              "    <path d=\"M120-120v-720h720v720H120Zm60-500h600v-160H180v160Zm220 220h160v-160H400v160Zm0 220h160v-160H400v160ZM180-400h160v-160H180v160Zm440 0h160v-160H620v160ZM180-180h160v-160H180v160Zm440 0h160v-160H620v160Z\"/>\n",
              "  </svg>\n",
              "    </button>\n",
              "\n",
              "  <style>\n",
              "    .colab-df-container {\n",
              "      display:flex;\n",
              "      gap: 12px;\n",
              "    }\n",
              "\n",
              "    .colab-df-convert {\n",
              "      background-color: #E8F0FE;\n",
              "      border: none;\n",
              "      border-radius: 50%;\n",
              "      cursor: pointer;\n",
              "      display: none;\n",
              "      fill: #1967D2;\n",
              "      height: 32px;\n",
              "      padding: 0 0 0 0;\n",
              "      width: 32px;\n",
              "    }\n",
              "\n",
              "    .colab-df-convert:hover {\n",
              "      background-color: #E2EBFA;\n",
              "      box-shadow: 0px 1px 2px rgba(60, 64, 67, 0.3), 0px 1px 3px 1px rgba(60, 64, 67, 0.15);\n",
              "      fill: #174EA6;\n",
              "    }\n",
              "\n",
              "    .colab-df-buttons div {\n",
              "      margin-bottom: 4px;\n",
              "    }\n",
              "\n",
              "    [theme=dark] .colab-df-convert {\n",
              "      background-color: #3B4455;\n",
              "      fill: #D2E3FC;\n",
              "    }\n",
              "\n",
              "    [theme=dark] .colab-df-convert:hover {\n",
              "      background-color: #434B5C;\n",
              "      box-shadow: 0px 1px 3px 1px rgba(0, 0, 0, 0.15);\n",
              "      filter: drop-shadow(0px 1px 2px rgba(0, 0, 0, 0.3));\n",
              "      fill: #FFFFFF;\n",
              "    }\n",
              "  </style>\n",
              "\n",
              "    <script>\n",
              "      const buttonEl =\n",
              "        document.querySelector('#df-fb29fc54-b82b-400d-9238-81153785efba button.colab-df-convert');\n",
              "      buttonEl.style.display =\n",
              "        google.colab.kernel.accessAllowed ? 'block' : 'none';\n",
              "\n",
              "      async function convertToInteractive(key) {\n",
              "        const element = document.querySelector('#df-fb29fc54-b82b-400d-9238-81153785efba');\n",
              "        const dataTable =\n",
              "          await google.colab.kernel.invokeFunction('convertToInteractive',\n",
              "                                                    [key], {});\n",
              "        if (!dataTable) return;\n",
              "\n",
              "        const docLinkHtml = 'Like what you see? Visit the ' +\n",
              "          '<a target=\"_blank\" href=https://colab.research.google.com/notebooks/data_table.ipynb>data table notebook</a>'\n",
              "          + ' to learn more about interactive tables.';\n",
              "        element.innerHTML = '';\n",
              "        dataTable['output_type'] = 'display_data';\n",
              "        await google.colab.output.renderOutput(dataTable, element);\n",
              "        const docLink = document.createElement('div');\n",
              "        docLink.innerHTML = docLinkHtml;\n",
              "        element.appendChild(docLink);\n",
              "      }\n",
              "    </script>\n",
              "  </div>\n",
              "\n",
              "\n",
              "<div id=\"df-a5907f0c-3033-4f1e-99e7-04f88dadb46f\">\n",
              "  <button class=\"colab-df-quickchart\" onclick=\"quickchart('df-a5907f0c-3033-4f1e-99e7-04f88dadb46f')\"\n",
              "            title=\"Suggest charts\"\n",
              "            style=\"display:none;\">\n",
              "\n",
              "<svg xmlns=\"http://www.w3.org/2000/svg\" height=\"24px\"viewBox=\"0 0 24 24\"\n",
              "     width=\"24px\">\n",
              "    <g>\n",
              "        <path d=\"M19 3H5c-1.1 0-2 .9-2 2v14c0 1.1.9 2 2 2h14c1.1 0 2-.9 2-2V5c0-1.1-.9-2-2-2zM9 17H7v-7h2v7zm4 0h-2V7h2v10zm4 0h-2v-4h2v4z\"/>\n",
              "    </g>\n",
              "</svg>\n",
              "  </button>\n",
              "\n",
              "<style>\n",
              "  .colab-df-quickchart {\n",
              "      --bg-color: #E8F0FE;\n",
              "      --fill-color: #1967D2;\n",
              "      --hover-bg-color: #E2EBFA;\n",
              "      --hover-fill-color: #174EA6;\n",
              "      --disabled-fill-color: #AAA;\n",
              "      --disabled-bg-color: #DDD;\n",
              "  }\n",
              "\n",
              "  [theme=dark] .colab-df-quickchart {\n",
              "      --bg-color: #3B4455;\n",
              "      --fill-color: #D2E3FC;\n",
              "      --hover-bg-color: #434B5C;\n",
              "      --hover-fill-color: #FFFFFF;\n",
              "      --disabled-bg-color: #3B4455;\n",
              "      --disabled-fill-color: #666;\n",
              "  }\n",
              "\n",
              "  .colab-df-quickchart {\n",
              "    background-color: var(--bg-color);\n",
              "    border: none;\n",
              "    border-radius: 50%;\n",
              "    cursor: pointer;\n",
              "    display: none;\n",
              "    fill: var(--fill-color);\n",
              "    height: 32px;\n",
              "    padding: 0;\n",
              "    width: 32px;\n",
              "  }\n",
              "\n",
              "  .colab-df-quickchart:hover {\n",
              "    background-color: var(--hover-bg-color);\n",
              "    box-shadow: 0 1px 2px rgba(60, 64, 67, 0.3), 0 1px 3px 1px rgba(60, 64, 67, 0.15);\n",
              "    fill: var(--button-hover-fill-color);\n",
              "  }\n",
              "\n",
              "  .colab-df-quickchart-complete:disabled,\n",
              "  .colab-df-quickchart-complete:disabled:hover {\n",
              "    background-color: var(--disabled-bg-color);\n",
              "    fill: var(--disabled-fill-color);\n",
              "    box-shadow: none;\n",
              "  }\n",
              "\n",
              "  .colab-df-spinner {\n",
              "    border: 2px solid var(--fill-color);\n",
              "    border-color: transparent;\n",
              "    border-bottom-color: var(--fill-color);\n",
              "    animation:\n",
              "      spin 1s steps(1) infinite;\n",
              "  }\n",
              "\n",
              "  @keyframes spin {\n",
              "    0% {\n",
              "      border-color: transparent;\n",
              "      border-bottom-color: var(--fill-color);\n",
              "      border-left-color: var(--fill-color);\n",
              "    }\n",
              "    20% {\n",
              "      border-color: transparent;\n",
              "      border-left-color: var(--fill-color);\n",
              "      border-top-color: var(--fill-color);\n",
              "    }\n",
              "    30% {\n",
              "      border-color: transparent;\n",
              "      border-left-color: var(--fill-color);\n",
              "      border-top-color: var(--fill-color);\n",
              "      border-right-color: var(--fill-color);\n",
              "    }\n",
              "    40% {\n",
              "      border-color: transparent;\n",
              "      border-right-color: var(--fill-color);\n",
              "      border-top-color: var(--fill-color);\n",
              "    }\n",
              "    60% {\n",
              "      border-color: transparent;\n",
              "      border-right-color: var(--fill-color);\n",
              "    }\n",
              "    80% {\n",
              "      border-color: transparent;\n",
              "      border-right-color: var(--fill-color);\n",
              "      border-bottom-color: var(--fill-color);\n",
              "    }\n",
              "    90% {\n",
              "      border-color: transparent;\n",
              "      border-bottom-color: var(--fill-color);\n",
              "    }\n",
              "  }\n",
              "</style>\n",
              "\n",
              "  <script>\n",
              "    async function quickchart(key) {\n",
              "      const quickchartButtonEl =\n",
              "        document.querySelector('#' + key + ' button');\n",
              "      quickchartButtonEl.disabled = true;  // To prevent multiple clicks.\n",
              "      quickchartButtonEl.classList.add('colab-df-spinner');\n",
              "      try {\n",
              "        const charts = await google.colab.kernel.invokeFunction(\n",
              "            'suggestCharts', [key], {});\n",
              "      } catch (error) {\n",
              "        console.error('Error during call to suggestCharts:', error);\n",
              "      }\n",
              "      quickchartButtonEl.classList.remove('colab-df-spinner');\n",
              "      quickchartButtonEl.classList.add('colab-df-quickchart-complete');\n",
              "    }\n",
              "    (() => {\n",
              "      let quickchartButtonEl =\n",
              "        document.querySelector('#df-a5907f0c-3033-4f1e-99e7-04f88dadb46f button');\n",
              "      quickchartButtonEl.style.display =\n",
              "        google.colab.kernel.accessAllowed ? 'block' : 'none';\n",
              "    })();\n",
              "  </script>\n",
              "</div>\n",
              "    </div>\n",
              "  </div>\n"
            ]
          },
          "metadata": {},
          "execution_count": 89
        }
      ]
    },
    {
      "cell_type": "code",
      "source": [
        "KS = max(df_actual_predicted['Cumulative Perc Good'] - df_actual_predicted['Cumulative Perc Bad'])\n",
        "\n",
        "plt.plot(df_actual_predicted['y_pred_proba'], df_actual_predicted['Cumulative Perc Bad'], color='r')\n",
        "plt.plot(df_actual_predicted['y_pred_proba'], df_actual_predicted['Cumulative Perc Good'], color='b')\n",
        "plt.xlabel('Estimated Probability for Being Bad')\n",
        "plt.ylabel('Cumulative %')\n",
        "plt.title('Kolmogorov-Smirnov:  %0.4f' %KS)"
      ],
      "metadata": {
        "colab": {
          "base_uri": "https://localhost:8080/",
          "height": 489
        },
        "id": "VnM6MonnyFGN",
        "outputId": "7540cda8-9d93-48ac-a8a3-bf7eff84b191"
      },
      "execution_count": null,
      "outputs": [
        {
          "output_type": "execute_result",
          "data": {
            "text/plain": [
              "Text(0.5, 1.0, 'Kolmogorov-Smirnov:  0.5619')"
            ]
          },
          "metadata": {},
          "execution_count": 90
        },
        {
          "output_type": "display_data",
          "data": {
            "text/plain": [
              "<Figure size 640x480 with 1 Axes>"
            ],
            "image/png": "[encoded data removed]"
          },
          "metadata": {}
        }
      ]
    },
    {
      "cell_type": "markdown",
      "source": [
        "Didapatkan Model dengan performa *** *AUC* = 0.857 *** dan *** *KS* = 0.56 ***. Pada dunia credit risk modeling, umumnya *AUC* di atas 0.7 dan *KS* di atas 0.3 sudah termasuk performa yang baik."
      ],
      "metadata": {
        "id": "yWkWvs_uyKvN"
      }
    }
  ]
}